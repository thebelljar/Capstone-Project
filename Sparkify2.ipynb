{
 "cells": [
  {
   "cell_type": "markdown",
   "metadata": {},
   "source": [
    "# Sparkify Project Workspace\n",
    "This workspace contains all the steps in the analysis and modelling of the data.\n",
    "\n",
    "## Overview\n",
    "Sparkify is a music streaming service which has paid and free customers. They have tasked me to buid a model that predicts which users are likely to churn prior to the event happening. Sparkify would send the customers that are considered at risk of churning offers or other insentives to stay with the paid service. \n",
    "\n",
    "The data provided by Sparkify includes customer demographic and service interaction data, all timestamped. The original dataset is 12GB, but due to resource restrictions I worked with the medium 242MB subset of the data using PySpark.\n",
    "\n",
    "After the data is cleaned, pre-processed and explored nine features are engineered from the dataset variables. F1 score is used as the measure of performance of the models taht were compared, due to the imbalanced nature of the labels (significantly more users have not churned). Baseline model performance was noted and subsequent models' F1 scores were compared against that figure. \n",
    "\n",
    "Gradient Boosted Tree Classifier came out to have the best predictive power with F1 score being 86% and was recommended for use in this scenario. The most important features were identified, top three of which are: average number of songs played, number of 'thumbs down' given and total number of sessions, which were anticipated.\n"
   ]
  },
  {
   "cell_type": "markdown",
   "metadata": {},
   "source": [
    "## Table of Contents\n",
    "- Data pre-processing\n",
    "    - Missing Data\n",
    "    - Defining Churn\n",
    "    - Explore Data\n",
    "- Feature Engeneering\n",
    "- Modelling\n",
    "    - Vectorise the features\n",
    "    - Normalise the features\n",
    "    - Split the dataset\n",
    "    - Compute baseline F1 score\n",
    "    - Build and Train models\n",
    "    - Hyperparameter tuning\n",
    "- Conclusion"
   ]
  },
  {
   "cell_type": "code",
   "execution_count": 1,
   "metadata": {},
   "outputs": [
    {
     "name": "stdout",
     "output_type": "stream",
     "text": [
      "Waiting for a Spark session to start...\n",
      "Spark Initialization Done! ApplicationId = app-20191009173434-0001\n",
      "KERNEL_ID = 6f2a5124-97db-4480-bfed-56496eea0ca5\n"
     ]
    }
   ],
   "source": [
    "# import pyspark related libraries\n",
    "from pyspark.sql.functions import avg, col, concat, desc, explode, lit, min, max, split, udf\n",
    "from pyspark.sql.functions import *\n",
    "from pyspark.sql.functions import sum as Fsum\n",
    "from pyspark.sql.types import IntegerType\n",
    "from pyspark.sql import Window\n",
    "\n",
    "from pyspark.ml import Pipeline\n",
    "from pyspark.ml.classification import LogisticRegression, GBTClassifier,LinearSVC, DecisionTreeClassifier\n",
    "from pyspark.ml.evaluation import MulticlassClassificationEvaluator\n",
    "from pyspark.ml.feature import StandardScaler, VectorAssembler\n",
    "from pyspark.ml.tuning import CrossValidator, ParamGridBuilder\n",
    "\n",
    "# import pandas, matplotlib, and seaborn for visualization and EDA\n",
    "import pandas as pd\n",
    "import numpy as np\n",
    "import matplotlib.pyplot as plt\n",
    "import seaborn as sns\n",
    "\n",
    "# import datetime for parsing datetime object\n",
    "import datetime"
   ]
  },
  {
   "cell_type": "markdown",
   "metadata": {},
   "source": [
    "## Data pre-processing\n",
    "In this workspace, the subset file is `medium_sparkify_event_data.json` from the IBM Watson Studio Cloud Object Storage. Load and clean the dataset, checking for invalid or missing data"
   ]
  },
  {
   "cell_type": "code",
   "execution_count": 2,
   "metadata": {},
   "outputs": [],
   "source": [
    "import ibmos2spark\n",
    "# @hidden_cell\n",
    "credentials = {\n",
    "    'endpoint': 'https://s3.eu-geo.objectstorage.service.networklayer.com',\n",
    "    'service_id': 'iam-ServiceId-e7c76399-a89e-4974-9557-ba5c60d5daa1',\n",
    "    'iam_service_endpoint': 'https://iam.eu-gb.bluemix.net/oidc/token',\n",
    "    'api_key': 'KE2C-XN165hErEFnJNrUpzaVMTCI67o6SOqm2jwV2gZY'\n",
    "}\n",
    "\n",
    "configuration_name = 'os_6244885cda944e7ebb1285a93c7c42bd_configs'\n",
    "cos = ibmos2spark.CloudObjectStorage(sc, credentials, configuration_name, 'bluemix_cos')\n",
    "\n",
    "from pyspark.sql import SparkSession\n",
    "spark = SparkSession.builder.getOrCreate()"
   ]
  },
  {
   "cell_type": "code",
   "execution_count": 3,
   "metadata": {},
   "outputs": [
    {
     "data": {
      "text/plain": [
       "[Row(artist='Martin Orford', auth='Logged In', firstName='Joseph', gender='M', itemInSession=20, lastName='Morales', length=597.55057, level='free', location='Corpus Christi, TX', method='PUT', page='NextSong', registration=1532063507000, sessionId=292, song='Grand Designs', status=200, ts=1538352011000, userAgent='\"Mozilla/5.0 (Macintosh; Intel Mac OS X 10_9_4) AppleWebKit/537.36 (KHTML, like Gecko) Chrome/36.0.1985.125 Safari/537.36\"', userId='293'),\n",
       " Row(artist=\"John Brown's Body\", auth='Logged In', firstName='Sawyer', gender='M', itemInSession=74, lastName='Larson', length=380.21179, level='free', location='Houston-The Woodlands-Sugar Land, TX', method='PUT', page='NextSong', registration=1538069638000, sessionId=97, song='Bulls', status=200, ts=1538352025000, userAgent='\"Mozilla/5.0 (Macintosh; Intel Mac OS X 10_9_4) AppleWebKit/537.36 (KHTML, like Gecko) Chrome/36.0.1985.143 Safari/537.36\"', userId='98'),\n",
       " Row(artist='Afroman', auth='Logged In', firstName='Maverick', gender='M', itemInSession=184, lastName='Santiago', length=202.37016, level='paid', location='Orlando-Kissimmee-Sanford, FL', method='PUT', page='NextSong', registration=1535953455000, sessionId=178, song='Because I Got High', status=200, ts=1538352118000, userAgent='\"Mozilla/5.0 (Macintosh; Intel Mac OS X 10_9_4) AppleWebKit/537.36 (KHTML, like Gecko) Chrome/36.0.1985.143 Safari/537.36\"', userId='179'),\n",
       " Row(artist=None, auth='Logged In', firstName='Maverick', gender='M', itemInSession=185, lastName='Santiago', length=None, level='paid', location='Orlando-Kissimmee-Sanford, FL', method='PUT', page='Logout', registration=1535953455000, sessionId=178, song=None, status=307, ts=1538352119000, userAgent='\"Mozilla/5.0 (Macintosh; Intel Mac OS X 10_9_4) AppleWebKit/537.36 (KHTML, like Gecko) Chrome/36.0.1985.143 Safari/537.36\"', userId='179'),\n",
       " Row(artist='Lily Allen', auth='Logged In', firstName='Gianna', gender='F', itemInSession=22, lastName='Campos', length=194.53342, level='paid', location='Mobile, AL', method='PUT', page='NextSong', registration=1535931018000, sessionId=245, song='Smile (Radio Edit)', status=200, ts=1538352124000, userAgent='Mozilla/5.0 (Windows NT 6.1; WOW64; rv:31.0) Gecko/20100101 Firefox/31.0', userId='246')]"
      ]
     },
     "execution_count": 3,
     "metadata": {},
     "output_type": "execute_result"
    }
   ],
   "source": [
    "df_spark = spark.read.json(cos.url('medium-sparkify-event-data.json', 'sparkify-donotdelete-pr-10odilmza0szjs'))\n",
    "df_spark.take(5)"
   ]
  },
  {
   "cell_type": "code",
   "execution_count": 4,
   "metadata": {},
   "outputs": [
    {
     "name": "stdout",
     "output_type": "stream",
     "text": [
      "root\n",
      " |-- artist: string (nullable = true)\n",
      " |-- auth: string (nullable = true)\n",
      " |-- firstName: string (nullable = true)\n",
      " |-- gender: string (nullable = true)\n",
      " |-- itemInSession: long (nullable = true)\n",
      " |-- lastName: string (nullable = true)\n",
      " |-- length: double (nullable = true)\n",
      " |-- level: string (nullable = true)\n",
      " |-- location: string (nullable = true)\n",
      " |-- method: string (nullable = true)\n",
      " |-- page: string (nullable = true)\n",
      " |-- registration: long (nullable = true)\n",
      " |-- sessionId: long (nullable = true)\n",
      " |-- song: string (nullable = true)\n",
      " |-- status: long (nullable = true)\n",
      " |-- ts: long (nullable = true)\n",
      " |-- userAgent: string (nullable = true)\n",
      " |-- userId: string (nullable = true)\n",
      "\n"
     ]
    }
   ],
   "source": [
    "df_spark.printSchema()"
   ]
  },
  {
   "cell_type": "markdown",
   "metadata": {},
   "source": [
    "### Missing data"
   ]
  },
  {
   "cell_type": "code",
   "execution_count": 5,
   "metadata": {},
   "outputs": [
    {
     "name": "stdout",
     "output_type": "stream",
     "text": [
      "There are 543705 rows before data pre-processing is done\n"
     ]
    }
   ],
   "source": [
    "print(\"There are {} rows before data pre-processing is done\".format(df_spark.count()))"
   ]
  },
  {
   "cell_type": "code",
   "execution_count": 6,
   "metadata": {},
   "outputs": [],
   "source": [
    "# Dropping NAs\n",
    "df_spark = df_spark.dropna(subset = [\"userId\", \"sessionId\"])"
   ]
  },
  {
   "cell_type": "code",
   "execution_count": 7,
   "metadata": {},
   "outputs": [
    {
     "name": "stdout",
     "output_type": "stream",
     "text": [
      "+------+\n",
      "|userId|\n",
      "+------+\n",
      "|      |\n",
      "|    10|\n",
      "|   100|\n",
      "+------+\n",
      "only showing top 3 rows\n",
      "\n"
     ]
    }
   ],
   "source": [
    "df_spark.select('userId').dropDuplicates().sort('userId').show(3)"
   ]
  },
  {
   "cell_type": "markdown",
   "metadata": {},
   "source": [
    "As can be seen from above, there are empty values for the userID column which must be removed"
   ]
  },
  {
   "cell_type": "code",
   "execution_count": 8,
   "metadata": {},
   "outputs": [],
   "source": [
    "df_spark = df_spark.filter(df_spark['userId'] != '')"
   ]
  },
  {
   "cell_type": "code",
   "execution_count": 9,
   "metadata": {},
   "outputs": [
    {
     "name": "stdout",
     "output_type": "stream",
     "text": [
      "There are 528005 rows before data pre-processing is done\n"
     ]
    }
   ],
   "source": [
    "print(\"There are {} rows before data pre-processing is done\".format(df_spark.count()))"
   ]
  },
  {
   "cell_type": "markdown",
   "metadata": {},
   "source": [
    "So, it can be seen that 15,700 recotds had an empty string for the userId value and hence been removed."
   ]
  },
  {
   "cell_type": "code",
   "execution_count": 10,
   "metadata": {},
   "outputs": [
    {
     "name": "stdout",
     "output_type": "stream",
     "text": [
      "+---------+\n",
      "|sessionId|\n",
      "+---------+\n",
      "|        1|\n",
      "|        2|\n",
      "|        3|\n",
      "+---------+\n",
      "only showing top 3 rows\n",
      "\n"
     ]
    }
   ],
   "source": [
    "df_spark.select('sessionId').dropDuplicates().sort('sessionId').show(3)"
   ]
  },
  {
   "cell_type": "markdown",
   "metadata": {},
   "source": [
    "It can also be seen that sessionId column has no missing values."
   ]
  },
  {
   "cell_type": "code",
   "execution_count": 11,
   "metadata": {},
   "outputs": [
    {
     "data": {
      "text/html": [
       "<div>\n",
       "<style scoped>\n",
       "    .dataframe tbody tr th:only-of-type {\n",
       "        vertical-align: middle;\n",
       "    }\n",
       "\n",
       "    .dataframe tbody tr th {\n",
       "        vertical-align: top;\n",
       "    }\n",
       "\n",
       "    .dataframe thead th {\n",
       "        text-align: right;\n",
       "    }\n",
       "</style>\n",
       "<table border=\"1\" class=\"dataframe\">\n",
       "  <thead>\n",
       "    <tr style=\"text-align: right;\">\n",
       "      <th></th>\n",
       "      <th>artist</th>\n",
       "      <th>auth</th>\n",
       "      <th>firstName</th>\n",
       "      <th>gender</th>\n",
       "      <th>itemInSession</th>\n",
       "      <th>lastName</th>\n",
       "      <th>length</th>\n",
       "      <th>level</th>\n",
       "      <th>location</th>\n",
       "      <th>method</th>\n",
       "      <th>page</th>\n",
       "      <th>registration</th>\n",
       "      <th>sessionId</th>\n",
       "      <th>song</th>\n",
       "      <th>status</th>\n",
       "      <th>ts</th>\n",
       "      <th>userAgent</th>\n",
       "      <th>userId</th>\n",
       "    </tr>\n",
       "  </thead>\n",
       "  <tbody>\n",
       "    <tr>\n",
       "      <th>0</th>\n",
       "      <td>Martin Orford</td>\n",
       "      <td>Logged In</td>\n",
       "      <td>Joseph</td>\n",
       "      <td>M</td>\n",
       "      <td>20</td>\n",
       "      <td>Morales</td>\n",
       "      <td>597.55057</td>\n",
       "      <td>free</td>\n",
       "      <td>Corpus Christi, TX</td>\n",
       "      <td>PUT</td>\n",
       "      <td>NextSong</td>\n",
       "      <td>1532063507000</td>\n",
       "      <td>292</td>\n",
       "      <td>Grand Designs</td>\n",
       "      <td>200</td>\n",
       "      <td>1538352011000</td>\n",
       "      <td>\"Mozilla/5.0 (Macintosh; Intel Mac OS X 10_9_4...</td>\n",
       "      <td>293</td>\n",
       "    </tr>\n",
       "    <tr>\n",
       "      <th>1</th>\n",
       "      <td>John Brown's Body</td>\n",
       "      <td>Logged In</td>\n",
       "      <td>Sawyer</td>\n",
       "      <td>M</td>\n",
       "      <td>74</td>\n",
       "      <td>Larson</td>\n",
       "      <td>380.21179</td>\n",
       "      <td>free</td>\n",
       "      <td>Houston-The Woodlands-Sugar Land, TX</td>\n",
       "      <td>PUT</td>\n",
       "      <td>NextSong</td>\n",
       "      <td>1538069638000</td>\n",
       "      <td>97</td>\n",
       "      <td>Bulls</td>\n",
       "      <td>200</td>\n",
       "      <td>1538352025000</td>\n",
       "      <td>\"Mozilla/5.0 (Macintosh; Intel Mac OS X 10_9_4...</td>\n",
       "      <td>98</td>\n",
       "    </tr>\n",
       "    <tr>\n",
       "      <th>2</th>\n",
       "      <td>Afroman</td>\n",
       "      <td>Logged In</td>\n",
       "      <td>Maverick</td>\n",
       "      <td>M</td>\n",
       "      <td>184</td>\n",
       "      <td>Santiago</td>\n",
       "      <td>202.37016</td>\n",
       "      <td>paid</td>\n",
       "      <td>Orlando-Kissimmee-Sanford, FL</td>\n",
       "      <td>PUT</td>\n",
       "      <td>NextSong</td>\n",
       "      <td>1535953455000</td>\n",
       "      <td>178</td>\n",
       "      <td>Because I Got High</td>\n",
       "      <td>200</td>\n",
       "      <td>1538352118000</td>\n",
       "      <td>\"Mozilla/5.0 (Macintosh; Intel Mac OS X 10_9_4...</td>\n",
       "      <td>179</td>\n",
       "    </tr>\n",
       "    <tr>\n",
       "      <th>3</th>\n",
       "      <td>None</td>\n",
       "      <td>Logged In</td>\n",
       "      <td>Maverick</td>\n",
       "      <td>M</td>\n",
       "      <td>185</td>\n",
       "      <td>Santiago</td>\n",
       "      <td>NaN</td>\n",
       "      <td>paid</td>\n",
       "      <td>Orlando-Kissimmee-Sanford, FL</td>\n",
       "      <td>PUT</td>\n",
       "      <td>Logout</td>\n",
       "      <td>1535953455000</td>\n",
       "      <td>178</td>\n",
       "      <td>None</td>\n",
       "      <td>307</td>\n",
       "      <td>1538352119000</td>\n",
       "      <td>\"Mozilla/5.0 (Macintosh; Intel Mac OS X 10_9_4...</td>\n",
       "      <td>179</td>\n",
       "    </tr>\n",
       "    <tr>\n",
       "      <th>4</th>\n",
       "      <td>Lily Allen</td>\n",
       "      <td>Logged In</td>\n",
       "      <td>Gianna</td>\n",
       "      <td>F</td>\n",
       "      <td>22</td>\n",
       "      <td>Campos</td>\n",
       "      <td>194.53342</td>\n",
       "      <td>paid</td>\n",
       "      <td>Mobile, AL</td>\n",
       "      <td>PUT</td>\n",
       "      <td>NextSong</td>\n",
       "      <td>1535931018000</td>\n",
       "      <td>245</td>\n",
       "      <td>Smile (Radio Edit)</td>\n",
       "      <td>200</td>\n",
       "      <td>1538352124000</td>\n",
       "      <td>Mozilla/5.0 (Windows NT 6.1; WOW64; rv:31.0) G...</td>\n",
       "      <td>246</td>\n",
       "    </tr>\n",
       "  </tbody>\n",
       "</table>\n",
       "</div>"
      ],
      "text/plain": [
       "              artist       auth firstName gender  itemInSession  lastName  \\\n",
       "0      Martin Orford  Logged In    Joseph      M             20   Morales   \n",
       "1  John Brown's Body  Logged In    Sawyer      M             74    Larson   \n",
       "2            Afroman  Logged In  Maverick      M            184  Santiago   \n",
       "3               None  Logged In  Maverick      M            185  Santiago   \n",
       "4         Lily Allen  Logged In    Gianna      F             22    Campos   \n",
       "\n",
       "      length level                              location method      page  \\\n",
       "0  597.55057  free                    Corpus Christi, TX    PUT  NextSong   \n",
       "1  380.21179  free  Houston-The Woodlands-Sugar Land, TX    PUT  NextSong   \n",
       "2  202.37016  paid         Orlando-Kissimmee-Sanford, FL    PUT  NextSong   \n",
       "3        NaN  paid         Orlando-Kissimmee-Sanford, FL    PUT    Logout   \n",
       "4  194.53342  paid                            Mobile, AL    PUT  NextSong   \n",
       "\n",
       "    registration  sessionId                song  status             ts  \\\n",
       "0  1532063507000        292       Grand Designs     200  1538352011000   \n",
       "1  1538069638000         97               Bulls     200  1538352025000   \n",
       "2  1535953455000        178  Because I Got High     200  1538352118000   \n",
       "3  1535953455000        178                None     307  1538352119000   \n",
       "4  1535931018000        245  Smile (Radio Edit)     200  1538352124000   \n",
       "\n",
       "                                           userAgent userId  \n",
       "0  \"Mozilla/5.0 (Macintosh; Intel Mac OS X 10_9_4...    293  \n",
       "1  \"Mozilla/5.0 (Macintosh; Intel Mac OS X 10_9_4...     98  \n",
       "2  \"Mozilla/5.0 (Macintosh; Intel Mac OS X 10_9_4...    179  \n",
       "3  \"Mozilla/5.0 (Macintosh; Intel Mac OS X 10_9_4...    179  \n",
       "4  Mozilla/5.0 (Windows NT 6.1; WOW64; rv:31.0) G...    246  "
      ]
     },
     "execution_count": 11,
     "metadata": {},
     "output_type": "execute_result"
    }
   ],
   "source": [
    "# For ease of visualisation, I will add a pandas dataframe\n",
    "df_pd = df_spark.toPandas()\n",
    "df_pd.head()"
   ]
  },
  {
   "cell_type": "markdown",
   "metadata": {},
   "source": [
    "### Defining Churn\n",
    "Now that the dataset has been cleaned, the churn column will be created which will be used as the target label for the model later on. The indicator for churn action will be 'Cancellation Confirmation' value for 'page' column. Downgrade action will also be investigated. "
   ]
  },
  {
   "cell_type": "code",
   "execution_count": 12,
   "metadata": {},
   "outputs": [
    {
     "data": {
      "text/plain": [
       "array(['NextSong', 'Logout', 'Home', 'Downgrade', 'Add to Playlist',\n",
       "       'Roll Advert', 'Thumbs Up', 'Help', 'Thumbs Down', 'Add Friend',\n",
       "       'Settings', 'Save Settings', 'Upgrade', 'About',\n",
       "       'Submit Downgrade', 'Cancel', 'Cancellation Confirmation',\n",
       "       'Submit Upgrade', 'Error'], dtype=object)"
      ]
     },
     "execution_count": 12,
     "metadata": {},
     "output_type": "execute_result"
    }
   ],
   "source": [
    "df_pd.page.unique()"
   ]
  },
  {
   "cell_type": "code",
   "execution_count": 13,
   "metadata": {},
   "outputs": [
    {
     "data": {
      "text/html": [
       "<div>\n",
       "<style scoped>\n",
       "    .dataframe tbody tr th:only-of-type {\n",
       "        vertical-align: middle;\n",
       "    }\n",
       "\n",
       "    .dataframe tbody tr th {\n",
       "        vertical-align: top;\n",
       "    }\n",
       "\n",
       "    .dataframe thead th {\n",
       "        text-align: right;\n",
       "    }\n",
       "</style>\n",
       "<table border=\"1\" class=\"dataframe\">\n",
       "  <thead>\n",
       "    <tr style=\"text-align: right;\">\n",
       "      <th></th>\n",
       "      <th>artist</th>\n",
       "      <th>auth</th>\n",
       "      <th>firstName</th>\n",
       "      <th>gender</th>\n",
       "      <th>itemInSession</th>\n",
       "      <th>lastName</th>\n",
       "      <th>length</th>\n",
       "      <th>level</th>\n",
       "      <th>location</th>\n",
       "      <th>method</th>\n",
       "      <th>page</th>\n",
       "      <th>registration</th>\n",
       "      <th>sessionId</th>\n",
       "      <th>song</th>\n",
       "      <th>status</th>\n",
       "      <th>ts</th>\n",
       "      <th>userAgent</th>\n",
       "      <th>userId</th>\n",
       "    </tr>\n",
       "  </thead>\n",
       "  <tbody>\n",
       "    <tr>\n",
       "      <th>2454</th>\n",
       "      <td>None</td>\n",
       "      <td>Cancelled</td>\n",
       "      <td>Olivia</td>\n",
       "      <td>F</td>\n",
       "      <td>40</td>\n",
       "      <td>Carr</td>\n",
       "      <td>NaN</td>\n",
       "      <td>free</td>\n",
       "      <td>Fort Wayne, IN</td>\n",
       "      <td>GET</td>\n",
       "      <td>Cancellation Confirmation</td>\n",
       "      <td>1536758439000</td>\n",
       "      <td>490</td>\n",
       "      <td>None</td>\n",
       "      <td>200</td>\n",
       "      <td>1538400616000</td>\n",
       "      <td>Mozilla/5.0 (Windows NT 6.2; WOW64; rv:31.0) G...</td>\n",
       "      <td>208</td>\n",
       "    </tr>\n",
       "    <tr>\n",
       "      <th>6550</th>\n",
       "      <td>None</td>\n",
       "      <td>Cancelled</td>\n",
       "      <td>Lillian</td>\n",
       "      <td>F</td>\n",
       "      <td>234</td>\n",
       "      <td>Cameron</td>\n",
       "      <td>NaN</td>\n",
       "      <td>paid</td>\n",
       "      <td>Columbus, OH</td>\n",
       "      <td>GET</td>\n",
       "      <td>Cancellation Confirmation</td>\n",
       "      <td>1533472700000</td>\n",
       "      <td>471</td>\n",
       "      <td>None</td>\n",
       "      <td>200</td>\n",
       "      <td>1538482793000</td>\n",
       "      <td>Mozilla/5.0 (Windows NT 6.1; WOW64; rv:31.0) G...</td>\n",
       "      <td>231</td>\n",
       "    </tr>\n",
       "    <tr>\n",
       "      <th>12226</th>\n",
       "      <td>None</td>\n",
       "      <td>Cancelled</td>\n",
       "      <td>Alex</td>\n",
       "      <td>M</td>\n",
       "      <td>109</td>\n",
       "      <td>Myers</td>\n",
       "      <td>NaN</td>\n",
       "      <td>paid</td>\n",
       "      <td>Grand Rapids-Wyoming, MI</td>\n",
       "      <td>GET</td>\n",
       "      <td>Cancellation Confirmation</td>\n",
       "      <td>1529995579000</td>\n",
       "      <td>682</td>\n",
       "      <td>None</td>\n",
       "      <td>200</td>\n",
       "      <td>1538539871000</td>\n",
       "      <td>\"Mozilla/5.0 (Windows NT 6.1; WOW64) AppleWebK...</td>\n",
       "      <td>236</td>\n",
       "    </tr>\n",
       "    <tr>\n",
       "      <th>15768</th>\n",
       "      <td>None</td>\n",
       "      <td>Cancelled</td>\n",
       "      <td>Rafael</td>\n",
       "      <td>M</td>\n",
       "      <td>66</td>\n",
       "      <td>Crawford</td>\n",
       "      <td>NaN</td>\n",
       "      <td>free</td>\n",
       "      <td>Bowling Green, KY</td>\n",
       "      <td>GET</td>\n",
       "      <td>Cancellation Confirmation</td>\n",
       "      <td>1533887620000</td>\n",
       "      <td>628</td>\n",
       "      <td>None</td>\n",
       "      <td>200</td>\n",
       "      <td>1538592529000</td>\n",
       "      <td>\"Mozilla/5.0 (Macintosh; Intel Mac OS X 10_9_4...</td>\n",
       "      <td>156</td>\n",
       "    </tr>\n",
       "    <tr>\n",
       "      <th>28348</th>\n",
       "      <td>None</td>\n",
       "      <td>Cancelled</td>\n",
       "      <td>Brad</td>\n",
       "      <td>M</td>\n",
       "      <td>227</td>\n",
       "      <td>Stewart</td>\n",
       "      <td>NaN</td>\n",
       "      <td>paid</td>\n",
       "      <td>Roanoke, VA</td>\n",
       "      <td>GET</td>\n",
       "      <td>Cancellation Confirmation</td>\n",
       "      <td>1535619094000</td>\n",
       "      <td>395</td>\n",
       "      <td>None</td>\n",
       "      <td>200</td>\n",
       "      <td>1538770077000</td>\n",
       "      <td>\"Mozilla/5.0 (Windows NT 6.3; WOW64) AppleWebK...</td>\n",
       "      <td>271</td>\n",
       "    </tr>\n",
       "    <tr>\n",
       "      <th>30108</th>\n",
       "      <td>None</td>\n",
       "      <td>Cancelled</td>\n",
       "      <td>Isaac</td>\n",
       "      <td>M</td>\n",
       "      <td>193</td>\n",
       "      <td>Miller</td>\n",
       "      <td>NaN</td>\n",
       "      <td>paid</td>\n",
       "      <td>Seattle-Tacoma-Bellevue, WA</td>\n",
       "      <td>GET</td>\n",
       "      <td>Cancellation Confirmation</td>\n",
       "      <td>1538201832000</td>\n",
       "      <td>862</td>\n",
       "      <td>None</td>\n",
       "      <td>200</td>\n",
       "      <td>1538800531000</td>\n",
       "      <td>Mozilla/5.0 (Windows NT 6.1; WOW64; rv:30.0) G...</td>\n",
       "      <td>200</td>\n",
       "    </tr>\n",
       "    <tr>\n",
       "      <th>34008</th>\n",
       "      <td>None</td>\n",
       "      <td>Cancelled</td>\n",
       "      <td>Ivan</td>\n",
       "      <td>M</td>\n",
       "      <td>9</td>\n",
       "      <td>Sanchez</td>\n",
       "      <td>NaN</td>\n",
       "      <td>free</td>\n",
       "      <td>Bridgeport-Stamford-Norwalk, CT</td>\n",
       "      <td>GET</td>\n",
       "      <td>Cancellation Confirmation</td>\n",
       "      <td>1533575236000</td>\n",
       "      <td>1027</td>\n",
       "      <td>None</td>\n",
       "      <td>200</td>\n",
       "      <td>1538890895000</td>\n",
       "      <td>Mozilla/5.0 (Windows NT 6.1; WOW64; Trident/7....</td>\n",
       "      <td>130</td>\n",
       "    </tr>\n",
       "    <tr>\n",
       "      <th>35018</th>\n",
       "      <td>None</td>\n",
       "      <td>Cancelled</td>\n",
       "      <td>Chloe</td>\n",
       "      <td>M</td>\n",
       "      <td>56</td>\n",
       "      <td>Myers</td>\n",
       "      <td>NaN</td>\n",
       "      <td>free</td>\n",
       "      <td>Tampa-St. Petersburg-Clearwater, FL</td>\n",
       "      <td>GET</td>\n",
       "      <td>Cancellation Confirmation</td>\n",
       "      <td>1534370883000</td>\n",
       "      <td>480</td>\n",
       "      <td>None</td>\n",
       "      <td>200</td>\n",
       "      <td>1538959081000</td>\n",
       "      <td>\"Mozilla/5.0 (iPhone; CPU iPhone OS 7_1 like M...</td>\n",
       "      <td>123</td>\n",
       "    </tr>\n",
       "    <tr>\n",
       "      <th>36381</th>\n",
       "      <td>None</td>\n",
       "      <td>Cancelled</td>\n",
       "      <td>Alexi</td>\n",
       "      <td>F</td>\n",
       "      <td>7</td>\n",
       "      <td>Warren</td>\n",
       "      <td>NaN</td>\n",
       "      <td>paid</td>\n",
       "      <td>Spokane-Spokane Valley, WA</td>\n",
       "      <td>GET</td>\n",
       "      <td>Cancellation Confirmation</td>\n",
       "      <td>1532482662000</td>\n",
       "      <td>1010</td>\n",
       "      <td>None</td>\n",
       "      <td>200</td>\n",
       "      <td>1538987586000</td>\n",
       "      <td>Mozilla/5.0 (Windows NT 6.1; WOW64; rv:32.0) G...</td>\n",
       "      <td>54</td>\n",
       "    </tr>\n",
       "    <tr>\n",
       "      <th>38552</th>\n",
       "      <td>None</td>\n",
       "      <td>Cancelled</td>\n",
       "      <td>Payton</td>\n",
       "      <td>F</td>\n",
       "      <td>82</td>\n",
       "      <td>Campbell</td>\n",
       "      <td>NaN</td>\n",
       "      <td>paid</td>\n",
       "      <td>Los Angeles-Long Beach-Anaheim, CA</td>\n",
       "      <td>GET</td>\n",
       "      <td>Cancellation Confirmation</td>\n",
       "      <td>1529027541000</td>\n",
       "      <td>1066</td>\n",
       "      <td>None</td>\n",
       "      <td>200</td>\n",
       "      <td>1539011456000</td>\n",
       "      <td>\"Mozilla/5.0 (Windows NT 6.1; WOW64) AppleWebK...</td>\n",
       "      <td>39</td>\n",
       "    </tr>\n",
       "    <tr>\n",
       "      <th>39229</th>\n",
       "      <td>None</td>\n",
       "      <td>Cancelled</td>\n",
       "      <td>Oliver</td>\n",
       "      <td>M</td>\n",
       "      <td>17</td>\n",
       "      <td>Fry</td>\n",
       "      <td>NaN</td>\n",
       "      <td>free</td>\n",
       "      <td>San Francisco-Oakland-Hayward, CA</td>\n",
       "      <td>GET</td>\n",
       "      <td>Cancellation Confirmation</td>\n",
       "      <td>1538048434000</td>\n",
       "      <td>1035</td>\n",
       "      <td>None</td>\n",
       "      <td>200</td>\n",
       "      <td>1539016481000</td>\n",
       "      <td>\"Mozilla/5.0 (Macintosh; Intel Mac OS X 10_9_4...</td>\n",
       "      <td>154</td>\n",
       "    </tr>\n",
       "    <tr>\n",
       "      <th>41836</th>\n",
       "      <td>None</td>\n",
       "      <td>Cancelled</td>\n",
       "      <td>Sadie</td>\n",
       "      <td>F</td>\n",
       "      <td>3</td>\n",
       "      <td>Jones</td>\n",
       "      <td>NaN</td>\n",
       "      <td>paid</td>\n",
       "      <td>Denver-Aurora-Lakewood, CO</td>\n",
       "      <td>GET</td>\n",
       "      <td>Cancellation Confirmation</td>\n",
       "      <td>1537054553000</td>\n",
       "      <td>659</td>\n",
       "      <td>None</td>\n",
       "      <td>200</td>\n",
       "      <td>1539041513000</td>\n",
       "      <td>\"Mozilla/5.0 (Macintosh; Intel Mac OS X 10_9_4...</td>\n",
       "      <td>132</td>\n",
       "    </tr>\n",
       "    <tr>\n",
       "      <th>42972</th>\n",
       "      <td>None</td>\n",
       "      <td>Cancelled</td>\n",
       "      <td>Brycen</td>\n",
       "      <td>M</td>\n",
       "      <td>435</td>\n",
       "      <td>Bradley</td>\n",
       "      <td>NaN</td>\n",
       "      <td>paid</td>\n",
       "      <td>Laurel, MS</td>\n",
       "      <td>GET</td>\n",
       "      <td>Cancellation Confirmation</td>\n",
       "      <td>1538159495000</td>\n",
       "      <td>9</td>\n",
       "      <td>None</td>\n",
       "      <td>200</td>\n",
       "      <td>1539055364000</td>\n",
       "      <td>\"Mozilla/5.0 (Macintosh; Intel Mac OS X 10_9_4...</td>\n",
       "      <td>10</td>\n",
       "    </tr>\n",
       "    <tr>\n",
       "      <th>53985</th>\n",
       "      <td>None</td>\n",
       "      <td>Cancelled</td>\n",
       "      <td>Angelynn</td>\n",
       "      <td>F</td>\n",
       "      <td>20</td>\n",
       "      <td>Coffey</td>\n",
       "      <td>NaN</td>\n",
       "      <td>paid</td>\n",
       "      <td>Allentown-Bethlehem-Easton, PA-NJ</td>\n",
       "      <td>GET</td>\n",
       "      <td>Cancellation Confirmation</td>\n",
       "      <td>1536885688000</td>\n",
       "      <td>1228</td>\n",
       "      <td>None</td>\n",
       "      <td>200</td>\n",
       "      <td>1539187234000</td>\n",
       "      <td>\"Mozilla/5.0 (Macintosh; Intel Mac OS X 10_9_4...</td>\n",
       "      <td>296</td>\n",
       "    </tr>\n",
       "    <tr>\n",
       "      <th>56559</th>\n",
       "      <td>None</td>\n",
       "      <td>Cancelled</td>\n",
       "      <td>Teagan</td>\n",
       "      <td>F</td>\n",
       "      <td>39</td>\n",
       "      <td>Garrett</td>\n",
       "      <td>NaN</td>\n",
       "      <td>free</td>\n",
       "      <td>Chicago-Naperville-Elgin, IL-IN-WI</td>\n",
       "      <td>GET</td>\n",
       "      <td>Cancellation Confirmation</td>\n",
       "      <td>1537385168000</td>\n",
       "      <td>817</td>\n",
       "      <td>None</td>\n",
       "      <td>200</td>\n",
       "      <td>1539213091000</td>\n",
       "      <td>\"Mozilla/5.0 (Macintosh; Intel Mac OS X 10_9_4...</td>\n",
       "      <td>187</td>\n",
       "    </tr>\n",
       "    <tr>\n",
       "      <th>89340</th>\n",
       "      <td>None</td>\n",
       "      <td>Cancelled</td>\n",
       "      <td>Ethan</td>\n",
       "      <td>M</td>\n",
       "      <td>180</td>\n",
       "      <td>Johnson</td>\n",
       "      <td>NaN</td>\n",
       "      <td>paid</td>\n",
       "      <td>Lexington-Fayette, KY</td>\n",
       "      <td>GET</td>\n",
       "      <td>Cancellation Confirmation</td>\n",
       "      <td>1538080987000</td>\n",
       "      <td>1443</td>\n",
       "      <td>None</td>\n",
       "      <td>200</td>\n",
       "      <td>1539709266000</td>\n",
       "      <td>\"Mozilla/5.0 (Windows NT 6.1; WOW64) AppleWebK...</td>\n",
       "      <td>51</td>\n",
       "    </tr>\n",
       "    <tr>\n",
       "      <th>94058</th>\n",
       "      <td>None</td>\n",
       "      <td>Cancelled</td>\n",
       "      <td>Anika</td>\n",
       "      <td>F</td>\n",
       "      <td>83</td>\n",
       "      <td>Osborne</td>\n",
       "      <td>NaN</td>\n",
       "      <td>paid</td>\n",
       "      <td>Philadelphia-Camden-Wilmington, PA-NJ-DE-MD</td>\n",
       "      <td>GET</td>\n",
       "      <td>Cancellation Confirmation</td>\n",
       "      <td>1533192032000</td>\n",
       "      <td>1796</td>\n",
       "      <td>None</td>\n",
       "      <td>200</td>\n",
       "      <td>1539768879000</td>\n",
       "      <td>\"Mozilla/5.0 (iPhone; CPU iPhone OS 7_1_2 like...</td>\n",
       "      <td>13</td>\n",
       "    </tr>\n",
       "    <tr>\n",
       "      <th>100169</th>\n",
       "      <td>None</td>\n",
       "      <td>Cancelled</td>\n",
       "      <td>Diego</td>\n",
       "      <td>M</td>\n",
       "      <td>36</td>\n",
       "      <td>Mckee</td>\n",
       "      <td>NaN</td>\n",
       "      <td>paid</td>\n",
       "      <td>Phoenix-Mesa-Scottsdale, AZ</td>\n",
       "      <td>GET</td>\n",
       "      <td>Cancellation Confirmation</td>\n",
       "      <td>1537167593000</td>\n",
       "      <td>1881</td>\n",
       "      <td>None</td>\n",
       "      <td>200</td>\n",
       "      <td>1539831896000</td>\n",
       "      <td>\"Mozilla/5.0 (iPhone; CPU iPhone OS 7_1_2 like...</td>\n",
       "      <td>32</td>\n",
       "    </tr>\n",
       "    <tr>\n",
       "      <th>113458</th>\n",
       "      <td>None</td>\n",
       "      <td>Cancelled</td>\n",
       "      <td>Teagan</td>\n",
       "      <td>F</td>\n",
       "      <td>48</td>\n",
       "      <td>Roberts</td>\n",
       "      <td>NaN</td>\n",
       "      <td>paid</td>\n",
       "      <td>New Philadelphia-Dover, OH</td>\n",
       "      <td>GET</td>\n",
       "      <td>Cancellation Confirmation</td>\n",
       "      <td>1537634865000</td>\n",
       "      <td>1927</td>\n",
       "      <td>None</td>\n",
       "      <td>200</td>\n",
       "      <td>1539968001000</td>\n",
       "      <td>Mozilla/5.0 (Windows NT 6.1; WOW64; Trident/7....</td>\n",
       "      <td>28</td>\n",
       "    </tr>\n",
       "    <tr>\n",
       "      <th>150370</th>\n",
       "      <td>None</td>\n",
       "      <td>Cancelled</td>\n",
       "      <td>Viviana</td>\n",
       "      <td>F</td>\n",
       "      <td>38</td>\n",
       "      <td>Finley</td>\n",
       "      <td>NaN</td>\n",
       "      <td>paid</td>\n",
       "      <td>Gallup, NM</td>\n",
       "      <td>GET</td>\n",
       "      <td>Cancellation Confirmation</td>\n",
       "      <td>1523777521000</td>\n",
       "      <td>2206</td>\n",
       "      <td>None</td>\n",
       "      <td>200</td>\n",
       "      <td>1540482186000</td>\n",
       "      <td>\"Mozilla/5.0 (Windows NT 6.2; WOW64) AppleWebK...</td>\n",
       "      <td>198</td>\n",
       "    </tr>\n",
       "    <tr>\n",
       "      <th>155862</th>\n",
       "      <td>None</td>\n",
       "      <td>Cancelled</td>\n",
       "      <td>Kee</td>\n",
       "      <td>M</td>\n",
       "      <td>216</td>\n",
       "      <td>Taylor</td>\n",
       "      <td>NaN</td>\n",
       "      <td>paid</td>\n",
       "      <td>Virginia Beach-Norfolk-Newport News, VA-NC</td>\n",
       "      <td>GET</td>\n",
       "      <td>Cancellation Confirmation</td>\n",
       "      <td>1533764798000</td>\n",
       "      <td>2429</td>\n",
       "      <td>None</td>\n",
       "      <td>200</td>\n",
       "      <td>1540528082000</td>\n",
       "      <td>\"Mozilla/5.0 (Windows NT 6.1; WOW64) AppleWebK...</td>\n",
       "      <td>196</td>\n",
       "    </tr>\n",
       "    <tr>\n",
       "      <th>173378</th>\n",
       "      <td>None</td>\n",
       "      <td>Cancelled</td>\n",
       "      <td>Thomas</td>\n",
       "      <td>M</td>\n",
       "      <td>83</td>\n",
       "      <td>White</td>\n",
       "      <td>NaN</td>\n",
       "      <td>paid</td>\n",
       "      <td>Providence-Warwick, RI-MA</td>\n",
       "      <td>GET</td>\n",
       "      <td>Cancellation Confirmation</td>\n",
       "      <td>1536270348000</td>\n",
       "      <td>2643</td>\n",
       "      <td>None</td>\n",
       "      <td>200</td>\n",
       "      <td>1540809016000</td>\n",
       "      <td>\"Mozilla/5.0 (X11; Linux x86_64) AppleWebKit/5...</td>\n",
       "      <td>172</td>\n",
       "    </tr>\n",
       "    <tr>\n",
       "      <th>189786</th>\n",
       "      <td>None</td>\n",
       "      <td>Cancelled</td>\n",
       "      <td>Carlos</td>\n",
       "      <td>M</td>\n",
       "      <td>231</td>\n",
       "      <td>Henderson</td>\n",
       "      <td>NaN</td>\n",
       "      <td>paid</td>\n",
       "      <td>Atlanta-Sandy Springs-Roswell, GA</td>\n",
       "      <td>GET</td>\n",
       "      <td>Cancellation Confirmation</td>\n",
       "      <td>1534689513000</td>\n",
       "      <td>2747</td>\n",
       "      <td>None</td>\n",
       "      <td>200</td>\n",
       "      <td>1540991227000</td>\n",
       "      <td>\"Mozilla/5.0 (Macintosh; Intel Mac OS X 10_9_4...</td>\n",
       "      <td>189</td>\n",
       "    </tr>\n",
       "    <tr>\n",
       "      <th>199805</th>\n",
       "      <td>None</td>\n",
       "      <td>Cancelled</td>\n",
       "      <td>Jean</td>\n",
       "      <td>M</td>\n",
       "      <td>218</td>\n",
       "      <td>Bennett</td>\n",
       "      <td>NaN</td>\n",
       "      <td>paid</td>\n",
       "      <td>New Orleans-Metairie, LA</td>\n",
       "      <td>GET</td>\n",
       "      <td>Cancellation Confirmation</td>\n",
       "      <td>1537953130000</td>\n",
       "      <td>2922</td>\n",
       "      <td>None</td>\n",
       "      <td>200</td>\n",
       "      <td>1541087401000</td>\n",
       "      <td>Mozilla/5.0 (Windows NT 6.1; WOW64; rv:30.0) G...</td>\n",
       "      <td>234</td>\n",
       "    </tr>\n",
       "    <tr>\n",
       "      <th>204731</th>\n",
       "      <td>None</td>\n",
       "      <td>Cancelled</td>\n",
       "      <td>Emma</td>\n",
       "      <td>F</td>\n",
       "      <td>41</td>\n",
       "      <td>Lee</td>\n",
       "      <td>NaN</td>\n",
       "      <td>paid</td>\n",
       "      <td>Winston-Salem, NC</td>\n",
       "      <td>GET</td>\n",
       "      <td>Cancellation Confirmation</td>\n",
       "      <td>1536597540000</td>\n",
       "      <td>2575</td>\n",
       "      <td>None</td>\n",
       "      <td>200</td>\n",
       "      <td>1541147487000</td>\n",
       "      <td>\"Mozilla/5.0 (Windows NT 6.3; WOW64) AppleWebK...</td>\n",
       "      <td>16</td>\n",
       "    </tr>\n",
       "    <tr>\n",
       "      <th>218608</th>\n",
       "      <td>None</td>\n",
       "      <td>Cancelled</td>\n",
       "      <td>Ean</td>\n",
       "      <td>M</td>\n",
       "      <td>245</td>\n",
       "      <td>White</td>\n",
       "      <td>NaN</td>\n",
       "      <td>paid</td>\n",
       "      <td>Show Low, AZ</td>\n",
       "      <td>GET</td>\n",
       "      <td>Cancellation Confirmation</td>\n",
       "      <td>1535231759000</td>\n",
       "      <td>3050</td>\n",
       "      <td>None</td>\n",
       "      <td>200</td>\n",
       "      <td>1541302069000</td>\n",
       "      <td>Mozilla/5.0 (Windows NT 6.1; WOW64; rv:31.0) G...</td>\n",
       "      <td>214</td>\n",
       "    </tr>\n",
       "    <tr>\n",
       "      <th>222557</th>\n",
       "      <td>None</td>\n",
       "      <td>Cancelled</td>\n",
       "      <td>Gianna</td>\n",
       "      <td>F</td>\n",
       "      <td>27</td>\n",
       "      <td>Campos</td>\n",
       "      <td>NaN</td>\n",
       "      <td>paid</td>\n",
       "      <td>Mobile, AL</td>\n",
       "      <td>GET</td>\n",
       "      <td>Cancellation Confirmation</td>\n",
       "      <td>1535931018000</td>\n",
       "      <td>3126</td>\n",
       "      <td>None</td>\n",
       "      <td>200</td>\n",
       "      <td>1541374384000</td>\n",
       "      <td>Mozilla/5.0 (Windows NT 6.1; WOW64; rv:31.0) G...</td>\n",
       "      <td>246</td>\n",
       "    </tr>\n",
       "    <tr>\n",
       "      <th>233928</th>\n",
       "      <td>None</td>\n",
       "      <td>Cancelled</td>\n",
       "      <td>Zyonna</td>\n",
       "      <td>F</td>\n",
       "      <td>225</td>\n",
       "      <td>Bird</td>\n",
       "      <td>NaN</td>\n",
       "      <td>paid</td>\n",
       "      <td>Columbus, GA-AL</td>\n",
       "      <td>GET</td>\n",
       "      <td>Cancellation Confirmation</td>\n",
       "      <td>1536663902000</td>\n",
       "      <td>3080</td>\n",
       "      <td>None</td>\n",
       "      <td>200</td>\n",
       "      <td>1541505193000</td>\n",
       "      <td>Mozilla/5.0 (Windows NT 6.1; WOW64; rv:31.0) G...</td>\n",
       "      <td>88</td>\n",
       "    </tr>\n",
       "    <tr>\n",
       "      <th>239240</th>\n",
       "      <td>None</td>\n",
       "      <td>Cancelled</td>\n",
       "      <td>Isobella</td>\n",
       "      <td>F</td>\n",
       "      <td>278</td>\n",
       "      <td>Wright</td>\n",
       "      <td>NaN</td>\n",
       "      <td>paid</td>\n",
       "      <td>Atlanta-Sandy Springs-Roswell, GA</td>\n",
       "      <td>GET</td>\n",
       "      <td>Cancellation Confirmation</td>\n",
       "      <td>1536398117000</td>\n",
       "      <td>3179</td>\n",
       "      <td>None</td>\n",
       "      <td>200</td>\n",
       "      <td>1541543944000</td>\n",
       "      <td>\"Mozilla/5.0 (Windows NT 6.3; WOW64) AppleWebK...</td>\n",
       "      <td>45</td>\n",
       "    </tr>\n",
       "    <tr>\n",
       "      <th>272888</th>\n",
       "      <td>None</td>\n",
       "      <td>Cancelled</td>\n",
       "      <td>Parker</td>\n",
       "      <td>M</td>\n",
       "      <td>17</td>\n",
       "      <td>Williams</td>\n",
       "      <td>NaN</td>\n",
       "      <td>paid</td>\n",
       "      <td>San Francisco-Oakland-Hayward, CA</td>\n",
       "      <td>GET</td>\n",
       "      <td>Cancellation Confirmation</td>\n",
       "      <td>1537188538000</td>\n",
       "      <td>3507</td>\n",
       "      <td>None</td>\n",
       "      <td>200</td>\n",
       "      <td>1541939290000</td>\n",
       "      <td>\"Mozilla/5.0 (iPhone; CPU iPhone OS 7_1_1 like...</td>\n",
       "      <td>61</td>\n",
       "    </tr>\n",
       "    <tr>\n",
       "      <th>...</th>\n",
       "      <td>...</td>\n",
       "      <td>...</td>\n",
       "      <td>...</td>\n",
       "      <td>...</td>\n",
       "      <td>...</td>\n",
       "      <td>...</td>\n",
       "      <td>...</td>\n",
       "      <td>...</td>\n",
       "      <td>...</td>\n",
       "      <td>...</td>\n",
       "      <td>...</td>\n",
       "      <td>...</td>\n",
       "      <td>...</td>\n",
       "      <td>...</td>\n",
       "      <td>...</td>\n",
       "      <td>...</td>\n",
       "      <td>...</td>\n",
       "      <td>...</td>\n",
       "    </tr>\n",
       "    <tr>\n",
       "      <th>406399</th>\n",
       "      <td>None</td>\n",
       "      <td>Cancelled</td>\n",
       "      <td>Landon</td>\n",
       "      <td>M</td>\n",
       "      <td>35</td>\n",
       "      <td>Walton</td>\n",
       "      <td>NaN</td>\n",
       "      <td>paid</td>\n",
       "      <td>St. Louis, MO-IL</td>\n",
       "      <td>GET</td>\n",
       "      <td>Cancellation Confirmation</td>\n",
       "      <td>1536854322000</td>\n",
       "      <td>220</td>\n",
       "      <td>None</td>\n",
       "      <td>200</td>\n",
       "      <td>1540318744000</td>\n",
       "      <td>\"Mozilla/5.0 (X11; Linux x86_64) AppleWebKit/5...</td>\n",
       "      <td>100016</td>\n",
       "    </tr>\n",
       "    <tr>\n",
       "      <th>406926</th>\n",
       "      <td>None</td>\n",
       "      <td>Cancelled</td>\n",
       "      <td>Camryn</td>\n",
       "      <td>F</td>\n",
       "      <td>55</td>\n",
       "      <td>Garcia</td>\n",
       "      <td>NaN</td>\n",
       "      <td>free</td>\n",
       "      <td>Grand Rapids-Wyoming, MI</td>\n",
       "      <td>GET</td>\n",
       "      <td>Cancellation Confirmation</td>\n",
       "      <td>1538322861000</td>\n",
       "      <td>239</td>\n",
       "      <td>None</td>\n",
       "      <td>200</td>\n",
       "      <td>1540435643000</td>\n",
       "      <td>\"Mozilla/5.0 (Macintosh; Intel Mac OS X 10_9_4...</td>\n",
       "      <td>100042</td>\n",
       "    </tr>\n",
       "    <tr>\n",
       "      <th>409394</th>\n",
       "      <td>None</td>\n",
       "      <td>Cancelled</td>\n",
       "      <td>Sahand</td>\n",
       "      <td>M</td>\n",
       "      <td>15</td>\n",
       "      <td>Warner</td>\n",
       "      <td>NaN</td>\n",
       "      <td>paid</td>\n",
       "      <td>Tampa-St. Petersburg-Clearwater, FL</td>\n",
       "      <td>GET</td>\n",
       "      <td>Cancellation Confirmation</td>\n",
       "      <td>1537075952000</td>\n",
       "      <td>289</td>\n",
       "      <td>None</td>\n",
       "      <td>200</td>\n",
       "      <td>1540894923000</td>\n",
       "      <td>\"Mozilla/5.0 (iPhone; CPU iPhone OS 7_1 like M...</td>\n",
       "      <td>100041</td>\n",
       "    </tr>\n",
       "    <tr>\n",
       "      <th>411596</th>\n",
       "      <td>None</td>\n",
       "      <td>Cancelled</td>\n",
       "      <td>Carlos</td>\n",
       "      <td>M</td>\n",
       "      <td>9</td>\n",
       "      <td>Boyd</td>\n",
       "      <td>NaN</td>\n",
       "      <td>free</td>\n",
       "      <td>Austin-Round Rock, TX</td>\n",
       "      <td>GET</td>\n",
       "      <td>Cancellation Confirmation</td>\n",
       "      <td>1533577172000</td>\n",
       "      <td>282</td>\n",
       "      <td>None</td>\n",
       "      <td>200</td>\n",
       "      <td>1541379538000</td>\n",
       "      <td>Mozilla/5.0 (X11; Ubuntu; Linux x86_64; rv:31....</td>\n",
       "      <td>100040</td>\n",
       "    </tr>\n",
       "    <tr>\n",
       "      <th>412341</th>\n",
       "      <td>None</td>\n",
       "      <td>Cancelled</td>\n",
       "      <td>London</td>\n",
       "      <td>F</td>\n",
       "      <td>20</td>\n",
       "      <td>Diaz</td>\n",
       "      <td>NaN</td>\n",
       "      <td>free</td>\n",
       "      <td>New York-Newark-Jersey City, NY-NJ-PA</td>\n",
       "      <td>GET</td>\n",
       "      <td>Cancellation Confirmation</td>\n",
       "      <td>1532625569000</td>\n",
       "      <td>334</td>\n",
       "      <td>None</td>\n",
       "      <td>200</td>\n",
       "      <td>1541508820000</td>\n",
       "      <td>\"Mozilla/5.0 (Macintosh; Intel Mac OS X 10_9_4...</td>\n",
       "      <td>100025</td>\n",
       "    </tr>\n",
       "    <tr>\n",
       "      <th>412425</th>\n",
       "      <td>None</td>\n",
       "      <td>Cancelled</td>\n",
       "      <td>Daniel</td>\n",
       "      <td>M</td>\n",
       "      <td>6</td>\n",
       "      <td>Marks</td>\n",
       "      <td>NaN</td>\n",
       "      <td>free</td>\n",
       "      <td>Chicago-Naperville-Elgin, IL-IN-WI</td>\n",
       "      <td>GET</td>\n",
       "      <td>Cancellation Confirmation</td>\n",
       "      <td>1537381154000</td>\n",
       "      <td>290</td>\n",
       "      <td>None</td>\n",
       "      <td>200</td>\n",
       "      <td>1541514950000</td>\n",
       "      <td>\"Mozilla/5.0 (Macintosh; Intel Mac OS X 10_9_4...</td>\n",
       "      <td>100012</td>\n",
       "    </tr>\n",
       "    <tr>\n",
       "      <th>412938</th>\n",
       "      <td>None</td>\n",
       "      <td>Cancelled</td>\n",
       "      <td>Nevaeh</td>\n",
       "      <td>F</td>\n",
       "      <td>31</td>\n",
       "      <td>Jones</td>\n",
       "      <td>NaN</td>\n",
       "      <td>paid</td>\n",
       "      <td>Miami-Fort Lauderdale-West Palm Beach, FL</td>\n",
       "      <td>GET</td>\n",
       "      <td>Cancellation Confirmation</td>\n",
       "      <td>1537309344000</td>\n",
       "      <td>339</td>\n",
       "      <td>None</td>\n",
       "      <td>200</td>\n",
       "      <td>1541661592000</td>\n",
       "      <td>Mozilla/5.0 (Windows NT 6.1; WOW64; rv:31.0) G...</td>\n",
       "      <td>100003</td>\n",
       "    </tr>\n",
       "    <tr>\n",
       "      <th>413306</th>\n",
       "      <td>None</td>\n",
       "      <td>Cancelled</td>\n",
       "      <td>Joseph</td>\n",
       "      <td>M</td>\n",
       "      <td>15</td>\n",
       "      <td>Landry</td>\n",
       "      <td>NaN</td>\n",
       "      <td>paid</td>\n",
       "      <td>Española, NM</td>\n",
       "      <td>GET</td>\n",
       "      <td>Cancellation Confirmation</td>\n",
       "      <td>1534052680000</td>\n",
       "      <td>131</td>\n",
       "      <td>None</td>\n",
       "      <td>200</td>\n",
       "      <td>1541731687000</td>\n",
       "      <td>\"Mozilla/5.0 (Windows NT 6.2; WOW64) AppleWebK...</td>\n",
       "      <td>100048</td>\n",
       "    </tr>\n",
       "    <tr>\n",
       "      <th>413599</th>\n",
       "      <td>None</td>\n",
       "      <td>Cancelled</td>\n",
       "      <td>Coryn</td>\n",
       "      <td>F</td>\n",
       "      <td>362</td>\n",
       "      <td>Norris</td>\n",
       "      <td>NaN</td>\n",
       "      <td>paid</td>\n",
       "      <td>Los Angeles-Long Beach-Anaheim, CA</td>\n",
       "      <td>GET</td>\n",
       "      <td>Cancellation Confirmation</td>\n",
       "      <td>1533201845000</td>\n",
       "      <td>340</td>\n",
       "      <td>None</td>\n",
       "      <td>200</td>\n",
       "      <td>1541762166000</td>\n",
       "      <td>Mozilla/5.0 (Windows NT 6.1; WOW64; rv:31.0) G...</td>\n",
       "      <td>100043</td>\n",
       "    </tr>\n",
       "    <tr>\n",
       "      <th>415562</th>\n",
       "      <td>None</td>\n",
       "      <td>Cancelled</td>\n",
       "      <td>James</td>\n",
       "      <td>M</td>\n",
       "      <td>54</td>\n",
       "      <td>Mann</td>\n",
       "      <td>NaN</td>\n",
       "      <td>free</td>\n",
       "      <td>Birmingham-Hoover, AL</td>\n",
       "      <td>GET</td>\n",
       "      <td>Cancellation Confirmation</td>\n",
       "      <td>1533247234000</td>\n",
       "      <td>254</td>\n",
       "      <td>None</td>\n",
       "      <td>200</td>\n",
       "      <td>1542117226000</td>\n",
       "      <td>\"Mozilla/5.0 (iPhone; CPU iPhone OS 7_1_2 like...</td>\n",
       "      <td>100017</td>\n",
       "    </tr>\n",
       "    <tr>\n",
       "      <th>415762</th>\n",
       "      <td>None</td>\n",
       "      <td>Cancelled</td>\n",
       "      <td>Jonathon</td>\n",
       "      <td>M</td>\n",
       "      <td>93</td>\n",
       "      <td>Miller</td>\n",
       "      <td>NaN</td>\n",
       "      <td>paid</td>\n",
       "      <td>New York-Newark-Jersey City, NY-NJ-PA</td>\n",
       "      <td>GET</td>\n",
       "      <td>Cancellation Confirmation</td>\n",
       "      <td>1536343087000</td>\n",
       "      <td>331</td>\n",
       "      <td>None</td>\n",
       "      <td>200</td>\n",
       "      <td>1542147643000</td>\n",
       "      <td>Mozilla/5.0 (Windows NT 6.1; rv:31.0) Gecko/20...</td>\n",
       "      <td>100024</td>\n",
       "    </tr>\n",
       "    <tr>\n",
       "      <th>415876</th>\n",
       "      <td>None</td>\n",
       "      <td>Cancelled</td>\n",
       "      <td>Aaliyah</td>\n",
       "      <td>F</td>\n",
       "      <td>109</td>\n",
       "      <td>Black</td>\n",
       "      <td>NaN</td>\n",
       "      <td>free</td>\n",
       "      <td>Boston-Cambridge-Newton, MA-NH</td>\n",
       "      <td>GET</td>\n",
       "      <td>Cancellation Confirmation</td>\n",
       "      <td>1542205030000</td>\n",
       "      <td>51</td>\n",
       "      <td>None</td>\n",
       "      <td>200</td>\n",
       "      <td>1542159866000</td>\n",
       "      <td>Mozilla/5.0 (Macintosh; Intel Mac OS X 10.9; r...</td>\n",
       "      <td>100051</td>\n",
       "    </tr>\n",
       "    <tr>\n",
       "      <th>417785</th>\n",
       "      <td>None</td>\n",
       "      <td>Cancelled</td>\n",
       "      <td>Sebastian</td>\n",
       "      <td>M</td>\n",
       "      <td>155</td>\n",
       "      <td>Ball</td>\n",
       "      <td>NaN</td>\n",
       "      <td>paid</td>\n",
       "      <td>Albany, OR</td>\n",
       "      <td>GET</td>\n",
       "      <td>Cancellation Confirmation</td>\n",
       "      <td>1537970819000</td>\n",
       "      <td>375</td>\n",
       "      <td>None</td>\n",
       "      <td>200</td>\n",
       "      <td>1542839733000</td>\n",
       "      <td>Mozilla/5.0 (Windows NT 6.1; WOW64; rv:31.0) G...</td>\n",
       "      <td>100011</td>\n",
       "    </tr>\n",
       "    <tr>\n",
       "      <th>422638</th>\n",
       "      <td>None</td>\n",
       "      <td>Cancelled</td>\n",
       "      <td>Charlotte</td>\n",
       "      <td>F</td>\n",
       "      <td>64</td>\n",
       "      <td>Frazier</td>\n",
       "      <td>NaN</td>\n",
       "      <td>paid</td>\n",
       "      <td>Baltimore-Columbia-Towson, MD</td>\n",
       "      <td>GET</td>\n",
       "      <td>Cancellation Confirmation</td>\n",
       "      <td>1537537765000</td>\n",
       "      <td>140</td>\n",
       "      <td>None</td>\n",
       "      <td>200</td>\n",
       "      <td>1538771014000</td>\n",
       "      <td>\"Mozilla/5.0 (Macintosh; Intel Mac OS X 10_9_4...</td>\n",
       "      <td>200016</td>\n",
       "    </tr>\n",
       "    <tr>\n",
       "      <th>433880</th>\n",
       "      <td>None</td>\n",
       "      <td>Cancelled</td>\n",
       "      <td>Wyatt</td>\n",
       "      <td>M</td>\n",
       "      <td>59</td>\n",
       "      <td>Blackwell</td>\n",
       "      <td>NaN</td>\n",
       "      <td>free</td>\n",
       "      <td>Columbus, GA-AL</td>\n",
       "      <td>GET</td>\n",
       "      <td>Cancellation Confirmation</td>\n",
       "      <td>1536671185000</td>\n",
       "      <td>362</td>\n",
       "      <td>None</td>\n",
       "      <td>200</td>\n",
       "      <td>1540347849000</td>\n",
       "      <td>\"Mozilla/5.0 (iPhone; CPU iPhone OS 7_1_2 like...</td>\n",
       "      <td>200037</td>\n",
       "    </tr>\n",
       "    <tr>\n",
       "      <th>435655</th>\n",
       "      <td>None</td>\n",
       "      <td>Cancelled</td>\n",
       "      <td>Kelsey</td>\n",
       "      <td>F</td>\n",
       "      <td>5</td>\n",
       "      <td>Cook</td>\n",
       "      <td>NaN</td>\n",
       "      <td>free</td>\n",
       "      <td>Lafayette-West Lafayette, IN</td>\n",
       "      <td>GET</td>\n",
       "      <td>Cancellation Confirmation</td>\n",
       "      <td>1537456783000</td>\n",
       "      <td>390</td>\n",
       "      <td>None</td>\n",
       "      <td>200</td>\n",
       "      <td>1540556875000</td>\n",
       "      <td>\"Mozilla/5.0 (Windows NT 6.1; WOW64) AppleWebK...</td>\n",
       "      <td>200041</td>\n",
       "    </tr>\n",
       "    <tr>\n",
       "      <th>438102</th>\n",
       "      <td>None</td>\n",
       "      <td>Cancelled</td>\n",
       "      <td>Dominic</td>\n",
       "      <td>M</td>\n",
       "      <td>138</td>\n",
       "      <td>Torres</td>\n",
       "      <td>NaN</td>\n",
       "      <td>paid</td>\n",
       "      <td>Chicago-Naperville-Elgin, IL-IN-WI</td>\n",
       "      <td>GET</td>\n",
       "      <td>Cancellation Confirmation</td>\n",
       "      <td>1536269906000</td>\n",
       "      <td>239</td>\n",
       "      <td>None</td>\n",
       "      <td>200</td>\n",
       "      <td>1540877026000</td>\n",
       "      <td>\"Mozilla/5.0 (iPhone; CPU iPhone OS 7_1 like M...</td>\n",
       "      <td>200002</td>\n",
       "    </tr>\n",
       "    <tr>\n",
       "      <th>443002</th>\n",
       "      <td>None</td>\n",
       "      <td>Cancelled</td>\n",
       "      <td>Justyn</td>\n",
       "      <td>M</td>\n",
       "      <td>68</td>\n",
       "      <td>Cruz</td>\n",
       "      <td>NaN</td>\n",
       "      <td>paid</td>\n",
       "      <td>Akron, OH</td>\n",
       "      <td>GET</td>\n",
       "      <td>Cancellation Confirmation</td>\n",
       "      <td>1534713653000</td>\n",
       "      <td>446</td>\n",
       "      <td>None</td>\n",
       "      <td>200</td>\n",
       "      <td>1541408793000</td>\n",
       "      <td>\"Mozilla/5.0 (Macintosh; Intel Mac OS X 10_9_4...</td>\n",
       "      <td>200013</td>\n",
       "    </tr>\n",
       "    <tr>\n",
       "      <th>443788</th>\n",
       "      <td>None</td>\n",
       "      <td>Cancelled</td>\n",
       "      <td>Liliana</td>\n",
       "      <td>F</td>\n",
       "      <td>184</td>\n",
       "      <td>Owen</td>\n",
       "      <td>NaN</td>\n",
       "      <td>paid</td>\n",
       "      <td>Detroit-Warren-Dearborn, MI</td>\n",
       "      <td>GET</td>\n",
       "      <td>Cancellation Confirmation</td>\n",
       "      <td>1535032914000</td>\n",
       "      <td>504</td>\n",
       "      <td>None</td>\n",
       "      <td>200</td>\n",
       "      <td>1541468030000</td>\n",
       "      <td>Mozilla/5.0 (Macintosh; Intel Mac OS X 10.7; r...</td>\n",
       "      <td>200021</td>\n",
       "    </tr>\n",
       "    <tr>\n",
       "      <th>443960</th>\n",
       "      <td>None</td>\n",
       "      <td>Cancelled</td>\n",
       "      <td>Adriana</td>\n",
       "      <td>F</td>\n",
       "      <td>22</td>\n",
       "      <td>Mayer</td>\n",
       "      <td>NaN</td>\n",
       "      <td>paid</td>\n",
       "      <td>Charlotte-Concord-Gastonia, NC-SC</td>\n",
       "      <td>GET</td>\n",
       "      <td>Cancellation Confirmation</td>\n",
       "      <td>1533670697000</td>\n",
       "      <td>507</td>\n",
       "      <td>None</td>\n",
       "      <td>200</td>\n",
       "      <td>1541507600000</td>\n",
       "      <td>\"Mozilla/5.0 (Windows NT 6.1) AppleWebKit/537....</td>\n",
       "      <td>200008</td>\n",
       "    </tr>\n",
       "    <tr>\n",
       "      <th>444785</th>\n",
       "      <td>None</td>\n",
       "      <td>Cancelled</td>\n",
       "      <td>Laura</td>\n",
       "      <td>F</td>\n",
       "      <td>293</td>\n",
       "      <td>Berry</td>\n",
       "      <td>NaN</td>\n",
       "      <td>free</td>\n",
       "      <td>New York-Newark-Jersey City, NY-NJ-PA</td>\n",
       "      <td>GET</td>\n",
       "      <td>Cancellation Confirmation</td>\n",
       "      <td>1531138482000</td>\n",
       "      <td>205</td>\n",
       "      <td>None</td>\n",
       "      <td>200</td>\n",
       "      <td>1541598238000</td>\n",
       "      <td>Mozilla/5.0 (Macintosh; Intel Mac OS X 10.9; r...</td>\n",
       "      <td>200027</td>\n",
       "    </tr>\n",
       "    <tr>\n",
       "      <th>446249</th>\n",
       "      <td>None</td>\n",
       "      <td>Cancelled</td>\n",
       "      <td>Brayden</td>\n",
       "      <td>M</td>\n",
       "      <td>27</td>\n",
       "      <td>Burton</td>\n",
       "      <td>NaN</td>\n",
       "      <td>paid</td>\n",
       "      <td>Dallas-Fort Worth-Arlington, TX</td>\n",
       "      <td>GET</td>\n",
       "      <td>Cancellation Confirmation</td>\n",
       "      <td>1537837280000</td>\n",
       "      <td>520</td>\n",
       "      <td>None</td>\n",
       "      <td>200</td>\n",
       "      <td>1541811678000</td>\n",
       "      <td>\"Mozilla/5.0 (Windows NT 6.1; WOW64) AppleWebK...</td>\n",
       "      <td>200050</td>\n",
       "    </tr>\n",
       "    <tr>\n",
       "      <th>448988</th>\n",
       "      <td>None</td>\n",
       "      <td>Cancelled</td>\n",
       "      <td>Christopher</td>\n",
       "      <td>M</td>\n",
       "      <td>182</td>\n",
       "      <td>Weber</td>\n",
       "      <td>NaN</td>\n",
       "      <td>paid</td>\n",
       "      <td>Washington-Arlington-Alexandria, DC-VA-MD-WV</td>\n",
       "      <td>GET</td>\n",
       "      <td>Cancellation Confirmation</td>\n",
       "      <td>1538005354000</td>\n",
       "      <td>559</td>\n",
       "      <td>None</td>\n",
       "      <td>200</td>\n",
       "      <td>1542162058000</td>\n",
       "      <td>\"Mozilla/5.0 (Macintosh; Intel Mac OS X 10_8_5...</td>\n",
       "      <td>200028</td>\n",
       "    </tr>\n",
       "    <tr>\n",
       "      <th>449330</th>\n",
       "      <td>None</td>\n",
       "      <td>Cancelled</td>\n",
       "      <td>Isaiah</td>\n",
       "      <td>M</td>\n",
       "      <td>460</td>\n",
       "      <td>Gomez</td>\n",
       "      <td>NaN</td>\n",
       "      <td>paid</td>\n",
       "      <td>London, KY</td>\n",
       "      <td>GET</td>\n",
       "      <td>Cancellation Confirmation</td>\n",
       "      <td>1537897424000</td>\n",
       "      <td>554</td>\n",
       "      <td>None</td>\n",
       "      <td>200</td>\n",
       "      <td>1542191563000</td>\n",
       "      <td>Mozilla/5.0 (X11; Ubuntu; Linux x86_64; rv:31....</td>\n",
       "      <td>200024</td>\n",
       "    </tr>\n",
       "    <tr>\n",
       "      <th>449446</th>\n",
       "      <td>None</td>\n",
       "      <td>Cancelled</td>\n",
       "      <td>Jace</td>\n",
       "      <td>M</td>\n",
       "      <td>41</td>\n",
       "      <td>Robertson</td>\n",
       "      <td>NaN</td>\n",
       "      <td>free</td>\n",
       "      <td>Atlanta-Sandy Springs-Roswell, GA</td>\n",
       "      <td>GET</td>\n",
       "      <td>Cancellation Confirmation</td>\n",
       "      <td>1519397713000</td>\n",
       "      <td>585</td>\n",
       "      <td>None</td>\n",
       "      <td>200</td>\n",
       "      <td>1542199883000</td>\n",
       "      <td>Mozilla/5.0 (Windows NT 5.1; rv:31.0) Gecko/20...</td>\n",
       "      <td>200045</td>\n",
       "    </tr>\n",
       "    <tr>\n",
       "      <th>449485</th>\n",
       "      <td>None</td>\n",
       "      <td>Cancelled</td>\n",
       "      <td>Katiana</td>\n",
       "      <td>F</td>\n",
       "      <td>11</td>\n",
       "      <td>Daniels</td>\n",
       "      <td>NaN</td>\n",
       "      <td>free</td>\n",
       "      <td>New York-Newark-Jersey City, NY-NJ-PA</td>\n",
       "      <td>GET</td>\n",
       "      <td>Cancellation Confirmation</td>\n",
       "      <td>1537812949000</td>\n",
       "      <td>589</td>\n",
       "      <td>None</td>\n",
       "      <td>200</td>\n",
       "      <td>1542206187000</td>\n",
       "      <td>\"Mozilla/5.0 (Windows NT 6.3; WOW64) AppleWebK...</td>\n",
       "      <td>200023</td>\n",
       "    </tr>\n",
       "    <tr>\n",
       "      <th>450318</th>\n",
       "      <td>None</td>\n",
       "      <td>Cancelled</td>\n",
       "      <td>Kaydence</td>\n",
       "      <td>F</td>\n",
       "      <td>28</td>\n",
       "      <td>Morris</td>\n",
       "      <td>NaN</td>\n",
       "      <td>paid</td>\n",
       "      <td>Salt Lake City, UT</td>\n",
       "      <td>GET</td>\n",
       "      <td>Cancellation Confirmation</td>\n",
       "      <td>1534625337000</td>\n",
       "      <td>516</td>\n",
       "      <td>None</td>\n",
       "      <td>200</td>\n",
       "      <td>1542360575000</td>\n",
       "      <td>Mozilla/5.0 (Windows NT 6.2; WOW64; rv:31.0) G...</td>\n",
       "      <td>200039</td>\n",
       "    </tr>\n",
       "    <tr>\n",
       "      <th>451609</th>\n",
       "      <td>None</td>\n",
       "      <td>Cancelled</td>\n",
       "      <td>Keegan</td>\n",
       "      <td>M</td>\n",
       "      <td>140</td>\n",
       "      <td>Rivera</td>\n",
       "      <td>NaN</td>\n",
       "      <td>paid</td>\n",
       "      <td>Orlando-Kissimmee-Sanford, FL</td>\n",
       "      <td>GET</td>\n",
       "      <td>Cancellation Confirmation</td>\n",
       "      <td>1535907116000</td>\n",
       "      <td>625</td>\n",
       "      <td>None</td>\n",
       "      <td>200</td>\n",
       "      <td>1542750479000</td>\n",
       "      <td>Mozilla/5.0 (Macintosh; Intel Mac OS X 10.9; r...</td>\n",
       "      <td>200020</td>\n",
       "    </tr>\n",
       "    <tr>\n",
       "      <th>484939</th>\n",
       "      <td>None</td>\n",
       "      <td>Cancelled</td>\n",
       "      <td>Peyton</td>\n",
       "      <td>F</td>\n",
       "      <td>35</td>\n",
       "      <td>Fischer</td>\n",
       "      <td>NaN</td>\n",
       "      <td>paid</td>\n",
       "      <td>Los Angeles-Long Beach-Anaheim, CA</td>\n",
       "      <td>GET</td>\n",
       "      <td>Cancellation Confirmation</td>\n",
       "      <td>1534513445000</td>\n",
       "      <td>289</td>\n",
       "      <td>None</td>\n",
       "      <td>200</td>\n",
       "      <td>1540684960000</td>\n",
       "      <td>\"Mozilla/5.0 (Windows NT 6.1) AppleWebKit/537....</td>\n",
       "      <td>300004</td>\n",
       "    </tr>\n",
       "    <tr>\n",
       "      <th>485228</th>\n",
       "      <td>None</td>\n",
       "      <td>Cancelled</td>\n",
       "      <td>Addison</td>\n",
       "      <td>F</td>\n",
       "      <td>37</td>\n",
       "      <td>Jimenez</td>\n",
       "      <td>NaN</td>\n",
       "      <td>paid</td>\n",
       "      <td>Newport, TN</td>\n",
       "      <td>GET</td>\n",
       "      <td>Cancellation Confirmation</td>\n",
       "      <td>1534486586000</td>\n",
       "      <td>258</td>\n",
       "      <td>None</td>\n",
       "      <td>200</td>\n",
       "      <td>1540711926000</td>\n",
       "      <td>Mozilla/5.0 (Windows NT 6.1; WOW64; rv:31.0) G...</td>\n",
       "      <td>300047</td>\n",
       "    </tr>\n",
       "  </tbody>\n",
       "</table>\n",
       "<p>99 rows × 18 columns</p>\n",
       "</div>"
      ],
      "text/plain": [
       "       artist       auth    firstName gender  itemInSession   lastName  \\\n",
       "2454     None  Cancelled       Olivia      F             40       Carr   \n",
       "6550     None  Cancelled      Lillian      F            234    Cameron   \n",
       "12226    None  Cancelled         Alex      M            109      Myers   \n",
       "15768    None  Cancelled       Rafael      M             66   Crawford   \n",
       "28348    None  Cancelled         Brad      M            227    Stewart   \n",
       "30108    None  Cancelled        Isaac      M            193     Miller   \n",
       "34008    None  Cancelled         Ivan      M              9    Sanchez   \n",
       "35018    None  Cancelled        Chloe      M             56      Myers   \n",
       "36381    None  Cancelled        Alexi      F              7     Warren   \n",
       "38552    None  Cancelled       Payton      F             82   Campbell   \n",
       "39229    None  Cancelled       Oliver      M             17        Fry   \n",
       "41836    None  Cancelled        Sadie      F              3      Jones   \n",
       "42972    None  Cancelled       Brycen      M            435    Bradley   \n",
       "53985    None  Cancelled     Angelynn      F             20     Coffey   \n",
       "56559    None  Cancelled       Teagan      F             39    Garrett   \n",
       "89340    None  Cancelled        Ethan      M            180    Johnson   \n",
       "94058    None  Cancelled        Anika      F             83    Osborne   \n",
       "100169   None  Cancelled        Diego      M             36      Mckee   \n",
       "113458   None  Cancelled       Teagan      F             48    Roberts   \n",
       "150370   None  Cancelled      Viviana      F             38     Finley   \n",
       "155862   None  Cancelled          Kee      M            216     Taylor   \n",
       "173378   None  Cancelled       Thomas      M             83      White   \n",
       "189786   None  Cancelled       Carlos      M            231  Henderson   \n",
       "199805   None  Cancelled         Jean      M            218    Bennett   \n",
       "204731   None  Cancelled         Emma      F             41        Lee   \n",
       "218608   None  Cancelled          Ean      M            245      White   \n",
       "222557   None  Cancelled       Gianna      F             27     Campos   \n",
       "233928   None  Cancelled       Zyonna      F            225       Bird   \n",
       "239240   None  Cancelled     Isobella      F            278     Wright   \n",
       "272888   None  Cancelled       Parker      M             17   Williams   \n",
       "...       ...        ...          ...    ...            ...        ...   \n",
       "406399   None  Cancelled       Landon      M             35     Walton   \n",
       "406926   None  Cancelled       Camryn      F             55     Garcia   \n",
       "409394   None  Cancelled       Sahand      M             15     Warner   \n",
       "411596   None  Cancelled       Carlos      M              9       Boyd   \n",
       "412341   None  Cancelled       London      F             20       Diaz   \n",
       "412425   None  Cancelled       Daniel      M              6      Marks   \n",
       "412938   None  Cancelled       Nevaeh      F             31      Jones   \n",
       "413306   None  Cancelled       Joseph      M             15     Landry   \n",
       "413599   None  Cancelled        Coryn      F            362     Norris   \n",
       "415562   None  Cancelled        James      M             54       Mann   \n",
       "415762   None  Cancelled     Jonathon      M             93     Miller   \n",
       "415876   None  Cancelled      Aaliyah      F            109      Black   \n",
       "417785   None  Cancelled    Sebastian      M            155       Ball   \n",
       "422638   None  Cancelled    Charlotte      F             64    Frazier   \n",
       "433880   None  Cancelled        Wyatt      M             59  Blackwell   \n",
       "435655   None  Cancelled       Kelsey      F              5       Cook   \n",
       "438102   None  Cancelled      Dominic      M            138     Torres   \n",
       "443002   None  Cancelled       Justyn      M             68       Cruz   \n",
       "443788   None  Cancelled      Liliana      F            184       Owen   \n",
       "443960   None  Cancelled      Adriana      F             22      Mayer   \n",
       "444785   None  Cancelled        Laura      F            293      Berry   \n",
       "446249   None  Cancelled      Brayden      M             27     Burton   \n",
       "448988   None  Cancelled  Christopher      M            182      Weber   \n",
       "449330   None  Cancelled       Isaiah      M            460      Gomez   \n",
       "449446   None  Cancelled         Jace      M             41  Robertson   \n",
       "449485   None  Cancelled      Katiana      F             11    Daniels   \n",
       "450318   None  Cancelled     Kaydence      F             28     Morris   \n",
       "451609   None  Cancelled       Keegan      M            140     Rivera   \n",
       "484939   None  Cancelled       Peyton      F             35    Fischer   \n",
       "485228   None  Cancelled      Addison      F             37    Jimenez   \n",
       "\n",
       "        length level                                      location method  \\\n",
       "2454       NaN  free                                Fort Wayne, IN    GET   \n",
       "6550       NaN  paid                                  Columbus, OH    GET   \n",
       "12226      NaN  paid                      Grand Rapids-Wyoming, MI    GET   \n",
       "15768      NaN  free                             Bowling Green, KY    GET   \n",
       "28348      NaN  paid                                   Roanoke, VA    GET   \n",
       "30108      NaN  paid                   Seattle-Tacoma-Bellevue, WA    GET   \n",
       "34008      NaN  free               Bridgeport-Stamford-Norwalk, CT    GET   \n",
       "35018      NaN  free           Tampa-St. Petersburg-Clearwater, FL    GET   \n",
       "36381      NaN  paid                    Spokane-Spokane Valley, WA    GET   \n",
       "38552      NaN  paid            Los Angeles-Long Beach-Anaheim, CA    GET   \n",
       "39229      NaN  free             San Francisco-Oakland-Hayward, CA    GET   \n",
       "41836      NaN  paid                    Denver-Aurora-Lakewood, CO    GET   \n",
       "42972      NaN  paid                                    Laurel, MS    GET   \n",
       "53985      NaN  paid             Allentown-Bethlehem-Easton, PA-NJ    GET   \n",
       "56559      NaN  free            Chicago-Naperville-Elgin, IL-IN-WI    GET   \n",
       "89340      NaN  paid                         Lexington-Fayette, KY    GET   \n",
       "94058      NaN  paid   Philadelphia-Camden-Wilmington, PA-NJ-DE-MD    GET   \n",
       "100169     NaN  paid                   Phoenix-Mesa-Scottsdale, AZ    GET   \n",
       "113458     NaN  paid                    New Philadelphia-Dover, OH    GET   \n",
       "150370     NaN  paid                                    Gallup, NM    GET   \n",
       "155862     NaN  paid    Virginia Beach-Norfolk-Newport News, VA-NC    GET   \n",
       "173378     NaN  paid                     Providence-Warwick, RI-MA    GET   \n",
       "189786     NaN  paid             Atlanta-Sandy Springs-Roswell, GA    GET   \n",
       "199805     NaN  paid                      New Orleans-Metairie, LA    GET   \n",
       "204731     NaN  paid                             Winston-Salem, NC    GET   \n",
       "218608     NaN  paid                                  Show Low, AZ    GET   \n",
       "222557     NaN  paid                                    Mobile, AL    GET   \n",
       "233928     NaN  paid                               Columbus, GA-AL    GET   \n",
       "239240     NaN  paid             Atlanta-Sandy Springs-Roswell, GA    GET   \n",
       "272888     NaN  paid             San Francisco-Oakland-Hayward, CA    GET   \n",
       "...        ...   ...                                           ...    ...   \n",
       "406399     NaN  paid                              St. Louis, MO-IL    GET   \n",
       "406926     NaN  free                      Grand Rapids-Wyoming, MI    GET   \n",
       "409394     NaN  paid           Tampa-St. Petersburg-Clearwater, FL    GET   \n",
       "411596     NaN  free                         Austin-Round Rock, TX    GET   \n",
       "412341     NaN  free         New York-Newark-Jersey City, NY-NJ-PA    GET   \n",
       "412425     NaN  free            Chicago-Naperville-Elgin, IL-IN-WI    GET   \n",
       "412938     NaN  paid     Miami-Fort Lauderdale-West Palm Beach, FL    GET   \n",
       "413306     NaN  paid                                  Española, NM    GET   \n",
       "413599     NaN  paid            Los Angeles-Long Beach-Anaheim, CA    GET   \n",
       "415562     NaN  free                         Birmingham-Hoover, AL    GET   \n",
       "415762     NaN  paid         New York-Newark-Jersey City, NY-NJ-PA    GET   \n",
       "415876     NaN  free                Boston-Cambridge-Newton, MA-NH    GET   \n",
       "417785     NaN  paid                                    Albany, OR    GET   \n",
       "422638     NaN  paid                 Baltimore-Columbia-Towson, MD    GET   \n",
       "433880     NaN  free                               Columbus, GA-AL    GET   \n",
       "435655     NaN  free                  Lafayette-West Lafayette, IN    GET   \n",
       "438102     NaN  paid            Chicago-Naperville-Elgin, IL-IN-WI    GET   \n",
       "443002     NaN  paid                                     Akron, OH    GET   \n",
       "443788     NaN  paid                   Detroit-Warren-Dearborn, MI    GET   \n",
       "443960     NaN  paid             Charlotte-Concord-Gastonia, NC-SC    GET   \n",
       "444785     NaN  free         New York-Newark-Jersey City, NY-NJ-PA    GET   \n",
       "446249     NaN  paid               Dallas-Fort Worth-Arlington, TX    GET   \n",
       "448988     NaN  paid  Washington-Arlington-Alexandria, DC-VA-MD-WV    GET   \n",
       "449330     NaN  paid                                    London, KY    GET   \n",
       "449446     NaN  free             Atlanta-Sandy Springs-Roswell, GA    GET   \n",
       "449485     NaN  free         New York-Newark-Jersey City, NY-NJ-PA    GET   \n",
       "450318     NaN  paid                            Salt Lake City, UT    GET   \n",
       "451609     NaN  paid                 Orlando-Kissimmee-Sanford, FL    GET   \n",
       "484939     NaN  paid            Los Angeles-Long Beach-Anaheim, CA    GET   \n",
       "485228     NaN  paid                                   Newport, TN    GET   \n",
       "\n",
       "                             page   registration  sessionId  song  status  \\\n",
       "2454    Cancellation Confirmation  1536758439000        490  None     200   \n",
       "6550    Cancellation Confirmation  1533472700000        471  None     200   \n",
       "12226   Cancellation Confirmation  1529995579000        682  None     200   \n",
       "15768   Cancellation Confirmation  1533887620000        628  None     200   \n",
       "28348   Cancellation Confirmation  1535619094000        395  None     200   \n",
       "30108   Cancellation Confirmation  1538201832000        862  None     200   \n",
       "34008   Cancellation Confirmation  1533575236000       1027  None     200   \n",
       "35018   Cancellation Confirmation  1534370883000        480  None     200   \n",
       "36381   Cancellation Confirmation  1532482662000       1010  None     200   \n",
       "38552   Cancellation Confirmation  1529027541000       1066  None     200   \n",
       "39229   Cancellation Confirmation  1538048434000       1035  None     200   \n",
       "41836   Cancellation Confirmation  1537054553000        659  None     200   \n",
       "42972   Cancellation Confirmation  1538159495000          9  None     200   \n",
       "53985   Cancellation Confirmation  1536885688000       1228  None     200   \n",
       "56559   Cancellation Confirmation  1537385168000        817  None     200   \n",
       "89340   Cancellation Confirmation  1538080987000       1443  None     200   \n",
       "94058   Cancellation Confirmation  1533192032000       1796  None     200   \n",
       "100169  Cancellation Confirmation  1537167593000       1881  None     200   \n",
       "113458  Cancellation Confirmation  1537634865000       1927  None     200   \n",
       "150370  Cancellation Confirmation  1523777521000       2206  None     200   \n",
       "155862  Cancellation Confirmation  1533764798000       2429  None     200   \n",
       "173378  Cancellation Confirmation  1536270348000       2643  None     200   \n",
       "189786  Cancellation Confirmation  1534689513000       2747  None     200   \n",
       "199805  Cancellation Confirmation  1537953130000       2922  None     200   \n",
       "204731  Cancellation Confirmation  1536597540000       2575  None     200   \n",
       "218608  Cancellation Confirmation  1535231759000       3050  None     200   \n",
       "222557  Cancellation Confirmation  1535931018000       3126  None     200   \n",
       "233928  Cancellation Confirmation  1536663902000       3080  None     200   \n",
       "239240  Cancellation Confirmation  1536398117000       3179  None     200   \n",
       "272888  Cancellation Confirmation  1537188538000       3507  None     200   \n",
       "...                           ...            ...        ...   ...     ...   \n",
       "406399  Cancellation Confirmation  1536854322000        220  None     200   \n",
       "406926  Cancellation Confirmation  1538322861000        239  None     200   \n",
       "409394  Cancellation Confirmation  1537075952000        289  None     200   \n",
       "411596  Cancellation Confirmation  1533577172000        282  None     200   \n",
       "412341  Cancellation Confirmation  1532625569000        334  None     200   \n",
       "412425  Cancellation Confirmation  1537381154000        290  None     200   \n",
       "412938  Cancellation Confirmation  1537309344000        339  None     200   \n",
       "413306  Cancellation Confirmation  1534052680000        131  None     200   \n",
       "413599  Cancellation Confirmation  1533201845000        340  None     200   \n",
       "415562  Cancellation Confirmation  1533247234000        254  None     200   \n",
       "415762  Cancellation Confirmation  1536343087000        331  None     200   \n",
       "415876  Cancellation Confirmation  1542205030000         51  None     200   \n",
       "417785  Cancellation Confirmation  1537970819000        375  None     200   \n",
       "422638  Cancellation Confirmation  1537537765000        140  None     200   \n",
       "433880  Cancellation Confirmation  1536671185000        362  None     200   \n",
       "435655  Cancellation Confirmation  1537456783000        390  None     200   \n",
       "438102  Cancellation Confirmation  1536269906000        239  None     200   \n",
       "443002  Cancellation Confirmation  1534713653000        446  None     200   \n",
       "443788  Cancellation Confirmation  1535032914000        504  None     200   \n",
       "443960  Cancellation Confirmation  1533670697000        507  None     200   \n",
       "444785  Cancellation Confirmation  1531138482000        205  None     200   \n",
       "446249  Cancellation Confirmation  1537837280000        520  None     200   \n",
       "448988  Cancellation Confirmation  1538005354000        559  None     200   \n",
       "449330  Cancellation Confirmation  1537897424000        554  None     200   \n",
       "449446  Cancellation Confirmation  1519397713000        585  None     200   \n",
       "449485  Cancellation Confirmation  1537812949000        589  None     200   \n",
       "450318  Cancellation Confirmation  1534625337000        516  None     200   \n",
       "451609  Cancellation Confirmation  1535907116000        625  None     200   \n",
       "484939  Cancellation Confirmation  1534513445000        289  None     200   \n",
       "485228  Cancellation Confirmation  1534486586000        258  None     200   \n",
       "\n",
       "                   ts                                          userAgent  \\\n",
       "2454    1538400616000  Mozilla/5.0 (Windows NT 6.2; WOW64; rv:31.0) G...   \n",
       "6550    1538482793000  Mozilla/5.0 (Windows NT 6.1; WOW64; rv:31.0) G...   \n",
       "12226   1538539871000  \"Mozilla/5.0 (Windows NT 6.1; WOW64) AppleWebK...   \n",
       "15768   1538592529000  \"Mozilla/5.0 (Macintosh; Intel Mac OS X 10_9_4...   \n",
       "28348   1538770077000  \"Mozilla/5.0 (Windows NT 6.3; WOW64) AppleWebK...   \n",
       "30108   1538800531000  Mozilla/5.0 (Windows NT 6.1; WOW64; rv:30.0) G...   \n",
       "34008   1538890895000  Mozilla/5.0 (Windows NT 6.1; WOW64; Trident/7....   \n",
       "35018   1538959081000  \"Mozilla/5.0 (iPhone; CPU iPhone OS 7_1 like M...   \n",
       "36381   1538987586000  Mozilla/5.0 (Windows NT 6.1; WOW64; rv:32.0) G...   \n",
       "38552   1539011456000  \"Mozilla/5.0 (Windows NT 6.1; WOW64) AppleWebK...   \n",
       "39229   1539016481000  \"Mozilla/5.0 (Macintosh; Intel Mac OS X 10_9_4...   \n",
       "41836   1539041513000  \"Mozilla/5.0 (Macintosh; Intel Mac OS X 10_9_4...   \n",
       "42972   1539055364000  \"Mozilla/5.0 (Macintosh; Intel Mac OS X 10_9_4...   \n",
       "53985   1539187234000  \"Mozilla/5.0 (Macintosh; Intel Mac OS X 10_9_4...   \n",
       "56559   1539213091000  \"Mozilla/5.0 (Macintosh; Intel Mac OS X 10_9_4...   \n",
       "89340   1539709266000  \"Mozilla/5.0 (Windows NT 6.1; WOW64) AppleWebK...   \n",
       "94058   1539768879000  \"Mozilla/5.0 (iPhone; CPU iPhone OS 7_1_2 like...   \n",
       "100169  1539831896000  \"Mozilla/5.0 (iPhone; CPU iPhone OS 7_1_2 like...   \n",
       "113458  1539968001000  Mozilla/5.0 (Windows NT 6.1; WOW64; Trident/7....   \n",
       "150370  1540482186000  \"Mozilla/5.0 (Windows NT 6.2; WOW64) AppleWebK...   \n",
       "155862  1540528082000  \"Mozilla/5.0 (Windows NT 6.1; WOW64) AppleWebK...   \n",
       "173378  1540809016000  \"Mozilla/5.0 (X11; Linux x86_64) AppleWebKit/5...   \n",
       "189786  1540991227000  \"Mozilla/5.0 (Macintosh; Intel Mac OS X 10_9_4...   \n",
       "199805  1541087401000  Mozilla/5.0 (Windows NT 6.1; WOW64; rv:30.0) G...   \n",
       "204731  1541147487000  \"Mozilla/5.0 (Windows NT 6.3; WOW64) AppleWebK...   \n",
       "218608  1541302069000  Mozilla/5.0 (Windows NT 6.1; WOW64; rv:31.0) G...   \n",
       "222557  1541374384000  Mozilla/5.0 (Windows NT 6.1; WOW64; rv:31.0) G...   \n",
       "233928  1541505193000  Mozilla/5.0 (Windows NT 6.1; WOW64; rv:31.0) G...   \n",
       "239240  1541543944000  \"Mozilla/5.0 (Windows NT 6.3; WOW64) AppleWebK...   \n",
       "272888  1541939290000  \"Mozilla/5.0 (iPhone; CPU iPhone OS 7_1_1 like...   \n",
       "...               ...                                                ...   \n",
       "406399  1540318744000  \"Mozilla/5.0 (X11; Linux x86_64) AppleWebKit/5...   \n",
       "406926  1540435643000  \"Mozilla/5.0 (Macintosh; Intel Mac OS X 10_9_4...   \n",
       "409394  1540894923000  \"Mozilla/5.0 (iPhone; CPU iPhone OS 7_1 like M...   \n",
       "411596  1541379538000  Mozilla/5.0 (X11; Ubuntu; Linux x86_64; rv:31....   \n",
       "412341  1541508820000  \"Mozilla/5.0 (Macintosh; Intel Mac OS X 10_9_4...   \n",
       "412425  1541514950000  \"Mozilla/5.0 (Macintosh; Intel Mac OS X 10_9_4...   \n",
       "412938  1541661592000  Mozilla/5.0 (Windows NT 6.1; WOW64; rv:31.0) G...   \n",
       "413306  1541731687000  \"Mozilla/5.0 (Windows NT 6.2; WOW64) AppleWebK...   \n",
       "413599  1541762166000  Mozilla/5.0 (Windows NT 6.1; WOW64; rv:31.0) G...   \n",
       "415562  1542117226000  \"Mozilla/5.0 (iPhone; CPU iPhone OS 7_1_2 like...   \n",
       "415762  1542147643000  Mozilla/5.0 (Windows NT 6.1; rv:31.0) Gecko/20...   \n",
       "415876  1542159866000  Mozilla/5.0 (Macintosh; Intel Mac OS X 10.9; r...   \n",
       "417785  1542839733000  Mozilla/5.0 (Windows NT 6.1; WOW64; rv:31.0) G...   \n",
       "422638  1538771014000  \"Mozilla/5.0 (Macintosh; Intel Mac OS X 10_9_4...   \n",
       "433880  1540347849000  \"Mozilla/5.0 (iPhone; CPU iPhone OS 7_1_2 like...   \n",
       "435655  1540556875000  \"Mozilla/5.0 (Windows NT 6.1; WOW64) AppleWebK...   \n",
       "438102  1540877026000  \"Mozilla/5.0 (iPhone; CPU iPhone OS 7_1 like M...   \n",
       "443002  1541408793000  \"Mozilla/5.0 (Macintosh; Intel Mac OS X 10_9_4...   \n",
       "443788  1541468030000  Mozilla/5.0 (Macintosh; Intel Mac OS X 10.7; r...   \n",
       "443960  1541507600000  \"Mozilla/5.0 (Windows NT 6.1) AppleWebKit/537....   \n",
       "444785  1541598238000  Mozilla/5.0 (Macintosh; Intel Mac OS X 10.9; r...   \n",
       "446249  1541811678000  \"Mozilla/5.0 (Windows NT 6.1; WOW64) AppleWebK...   \n",
       "448988  1542162058000  \"Mozilla/5.0 (Macintosh; Intel Mac OS X 10_8_5...   \n",
       "449330  1542191563000  Mozilla/5.0 (X11; Ubuntu; Linux x86_64; rv:31....   \n",
       "449446  1542199883000  Mozilla/5.0 (Windows NT 5.1; rv:31.0) Gecko/20...   \n",
       "449485  1542206187000  \"Mozilla/5.0 (Windows NT 6.3; WOW64) AppleWebK...   \n",
       "450318  1542360575000  Mozilla/5.0 (Windows NT 6.2; WOW64; rv:31.0) G...   \n",
       "451609  1542750479000  Mozilla/5.0 (Macintosh; Intel Mac OS X 10.9; r...   \n",
       "484939  1540684960000  \"Mozilla/5.0 (Windows NT 6.1) AppleWebKit/537....   \n",
       "485228  1540711926000  Mozilla/5.0 (Windows NT 6.1; WOW64; rv:31.0) G...   \n",
       "\n",
       "        userId  \n",
       "2454       208  \n",
       "6550       231  \n",
       "12226      236  \n",
       "15768      156  \n",
       "28348      271  \n",
       "30108      200  \n",
       "34008      130  \n",
       "35018      123  \n",
       "36381       54  \n",
       "38552       39  \n",
       "39229      154  \n",
       "41836      132  \n",
       "42972       10  \n",
       "53985      296  \n",
       "56559      187  \n",
       "89340       51  \n",
       "94058       13  \n",
       "100169      32  \n",
       "113458      28  \n",
       "150370     198  \n",
       "155862     196  \n",
       "173378     172  \n",
       "189786     189  \n",
       "199805     234  \n",
       "204731      16  \n",
       "218608     214  \n",
       "222557     246  \n",
       "233928      88  \n",
       "239240      45  \n",
       "272888      61  \n",
       "...        ...  \n",
       "406399  100016  \n",
       "406926  100042  \n",
       "409394  100041  \n",
       "411596  100040  \n",
       "412341  100025  \n",
       "412425  100012  \n",
       "412938  100003  \n",
       "413306  100048  \n",
       "413599  100043  \n",
       "415562  100017  \n",
       "415762  100024  \n",
       "415876  100051  \n",
       "417785  100011  \n",
       "422638  200016  \n",
       "433880  200037  \n",
       "435655  200041  \n",
       "438102  200002  \n",
       "443002  200013  \n",
       "443788  200021  \n",
       "443960  200008  \n",
       "444785  200027  \n",
       "446249  200050  \n",
       "448988  200028  \n",
       "449330  200024  \n",
       "449446  200045  \n",
       "449485  200023  \n",
       "450318  200039  \n",
       "451609  200020  \n",
       "484939  300004  \n",
       "485228  300047  \n",
       "\n",
       "[99 rows x 18 columns]"
      ]
     },
     "execution_count": 13,
     "metadata": {},
     "output_type": "execute_result"
    }
   ],
   "source": [
    "df_pd[df_pd['page'] == 'Cancellation Confirmation']"
   ]
  },
  {
   "cell_type": "code",
   "execution_count": 14,
   "metadata": {},
   "outputs": [
    {
     "name": "stdout",
     "output_type": "stream",
     "text": [
      "There are 99 rows with 'Cancellation Confirmation' value for page column\n"
     ]
    }
   ],
   "source": [
    "print(\"There are {} rows with 'Cancellation Confirmation' value for page column\".format(df_pd[df_pd['page'] == 'Cancellation Confirmation'].shape[0]))"
   ]
  },
  {
   "cell_type": "markdown",
   "metadata": {},
   "source": [
    "I will first create a label for downgrade event and flag the users who have downgraded and then do the same for churn action and users who churned."
   ]
  },
  {
   "cell_type": "code",
   "execution_count": 15,
   "metadata": {},
   "outputs": [],
   "source": [
    "# create downgrade label\n",
    "down_label = udf(lambda page: 1 if page == 'Submit Downgrade' else 0, IntegerType())\n",
    "df_spark = df_spark.withColumn('downgrade_event', down_label('page'))\n",
    "\n",
    "# create a label for users who have ever downgraded\n",
    "windowval = Window.partitionBy('userId')\n",
    "df_spark = df_spark.withColumn('downgrade', max('downgrade_event').over(windowval))"
   ]
  },
  {
   "cell_type": "code",
   "execution_count": 16,
   "metadata": {},
   "outputs": [],
   "source": [
    "# create churn label\n",
    "churn_label = udf(lambda page: 1 if page == 'Cancellation Confirmation' else 0, IntegerType())\n",
    "df_spark = df_spark.withColumn('churn_event', churn_label('page'))\n",
    "\n",
    "# create a label for users who have ever churned\n",
    "df_spark = df_spark.withColumn('churn', max('churn_event').over(windowval))"
   ]
  },
  {
   "cell_type": "code",
   "execution_count": 17,
   "metadata": {
    "scrolled": true
   },
   "outputs": [
    {
     "name": "stdout",
     "output_type": "stream",
     "text": [
      "+------+---------------+---------+-----------+-----+\n",
      "|userId|downgrade_event|downgrade|churn_event|churn|\n",
      "+------+---------------+---------+-----------+-----+\n",
      "|100010|              0|        0|          0|    1|\n",
      "|100010|              0|        0|          1|    1|\n",
      "|200002|              0|        0|          0|    1|\n",
      "|200002|              0|        0|          1|    1|\n",
      "|   296|              0|        0|          0|    1|\n",
      "|   296|              0|        0|          1|    1|\n",
      "|   125|              0|        0|          0|    0|\n",
      "|   124|              0|        0|          0|    1|\n",
      "|   124|              0|        0|          1|    1|\n",
      "|    51|              0|        0|          0|    1|\n",
      "+------+---------------+---------+-----------+-----+\n",
      "only showing top 10 rows\n",
      "\n"
     ]
    }
   ],
   "source": [
    "# Let's have a look at the values in the new columns\n",
    "df_spark.select(['userId','downgrade_event', 'downgrade', 'churn_event','churn']).dropDuplicates().show(10)"
   ]
  },
  {
   "cell_type": "markdown",
   "metadata": {},
   "source": [
    "Just to clarify the difference between the columns downgrade_event/downgrade and churn_event/churn:\n",
    "The event column shows whether that row contains the downgrade or churn action (hence 'event') and the other columns shows whether that user has ever performed that action."
   ]
  },
  {
   "cell_type": "markdown",
   "metadata": {},
   "source": [
    "### Explore Data\n",
    "Now that churn and downgrade has been defined, we can move onto performing some exploratory data analysis to observe the behavior for users who stayed vs users who churned. I am first going to prepare the time stampt column into an easier digestible form."
   ]
  },
  {
   "cell_type": "code",
   "execution_count": 18,
   "metadata": {},
   "outputs": [],
   "source": [
    "# Firstly, converting the time stamp to date and time format\n",
    "get_time = udf(lambda x: datetime.datetime.fromtimestamp(x / 1000.0).strftime(\"%Y-%m-%d %H:%M:%S\"))\n",
    "df_spark = df_spark.withColumn('event_time', get_time('ts'))\n",
    "df_spark = df_spark.withColumn('registration_time', get_time('registration'))"
   ]
  },
  {
   "cell_type": "code",
   "execution_count": 19,
   "metadata": {},
   "outputs": [
    {
     "name": "stdout",
     "output_type": "stream",
     "text": [
      "+------+-----------+-------------------+-----+------------------+-------------------+\n",
      "|userId|       page|         event_time|level|              song|  registration_time|\n",
      "+------+-----------+-------------------+-----+------------------+-------------------+\n",
      "|   100|       Home|2018-10-01 00:04:01| free|              null|2018-09-26 17:17:35|\n",
      "|   100|   NextSong|2018-10-01 00:04:19| free|  Teach Me Tonight|2018-09-26 17:17:35|\n",
      "|   100|   NextSong|2018-10-01 00:07:40| free|You Only Live Once|2018-09-26 17:17:35|\n",
      "|   100|Roll Advert|2018-10-01 00:07:40| free|              null|2018-09-26 17:17:35|\n",
      "|   100|   NextSong|2018-10-01 00:10:47| free|      AsesÃÂ­name|2018-09-26 17:17:35|\n",
      "+------+-----------+-------------------+-----+------------------+-------------------+\n",
      "only showing top 5 rows\n",
      "\n"
     ]
    }
   ],
   "source": [
    "# Let's see how the new column looks\n",
    "df_spark.select([\"userId\", \"page\", \"event_time\", \"level\", \"song\", 'registration_time']).where(df_spark.userId == \"100\").sort(\"event_time\").show(5)"
   ]
  },
  {
   "cell_type": "code",
   "execution_count": 20,
   "metadata": {},
   "outputs": [],
   "source": [
    "# Create an hour column\n",
    "df_spark = df_spark.withColumn('hour', hour(df_spark.event_time).alias('hour'))\n",
    "\n",
    "# Create a day column\n",
    "df_spark = df_spark.withColumn('day', dayofmonth(df_spark.event_time).alias('day'))\n",
    "\n",
    "# Create a month column\n",
    "df_spark = df_spark.withColumn('month', month(df_spark.event_time).alias('month'))"
   ]
  },
  {
   "cell_type": "code",
   "execution_count": 21,
   "metadata": {},
   "outputs": [
    {
     "data": {
      "text/plain": [
       "[Row(artist='Darude', auth='Logged In', firstName='Darianna', gender='F', itemInSession=0, lastName='Carpenter', length=226.08934, level='free', location='Bridgeport-Stamford-Norwalk, CT', method='PUT', page='NextSong', registration=1538016340000, sessionId=62, song='Sandstorm', status=200, ts=1538991392000, userAgent='\"Mozilla/5.0 (iPhone; CPU iPhone OS 7_1_2 like Mac OS X) AppleWebKit/537.51.2 (KHTML, like Gecko) Version/7.0 Mobile/11D257 Safari/9537.53\"', userId='100010', downgrade_event=0, downgrade=0, churn_event=0, churn=1, event_time='2018-10-08 09:36:32', registration_time='2018-09-27 02:45:40', hour=9, day=8, month=10),\n",
       " Row(artist='Justice', auth='Logged In', firstName='Darianna', gender='F', itemInSession=1, lastName='Carpenter', length=285.41342, level='free', location='Bridgeport-Stamford-Norwalk, CT', method='PUT', page='NextSong', registration=1538016340000, sessionId=62, song='Phantom Part 1.5 (Album Version)', status=200, ts=1538991618000, userAgent='\"Mozilla/5.0 (iPhone; CPU iPhone OS 7_1_2 like Mac OS X) AppleWebKit/537.51.2 (KHTML, like Gecko) Version/7.0 Mobile/11D257 Safari/9537.53\"', userId='100010', downgrade_event=0, downgrade=0, churn_event=0, churn=1, event_time='2018-10-08 09:40:18', registration_time='2018-09-27 02:45:40', hour=9, day=8, month=10),\n",
       " Row(artist='Five Iron Frenzy', auth='Logged In', firstName='Darianna', gender='F', itemInSession=2, lastName='Carpenter', length=236.09424, level='free', location='Bridgeport-Stamford-Norwalk, CT', method='PUT', page='NextSong', registration=1538016340000, sessionId=62, song='Canada', status=200, ts=1538991903000, userAgent='\"Mozilla/5.0 (iPhone; CPU iPhone OS 7_1_2 like Mac OS X) AppleWebKit/537.51.2 (KHTML, like Gecko) Version/7.0 Mobile/11D257 Safari/9537.53\"', userId='100010', downgrade_event=0, downgrade=0, churn_event=0, churn=1, event_time='2018-10-08 09:45:03', registration_time='2018-09-27 02:45:40', hour=9, day=8, month=10),\n",
       " Row(artist='Carpenters', auth='Logged In', firstName='Darianna', gender='F', itemInSession=3, lastName='Carpenter', length=250.25261, level='free', location='Bridgeport-Stamford-Norwalk, CT', method='PUT', page='NextSong', registration=1538016340000, sessionId=62, song='Ticket To Ride', status=200, ts=1538992139000, userAgent='\"Mozilla/5.0 (iPhone; CPU iPhone OS 7_1_2 like Mac OS X) AppleWebKit/537.51.2 (KHTML, like Gecko) Version/7.0 Mobile/11D257 Safari/9537.53\"', userId='100010', downgrade_event=0, downgrade=0, churn_event=0, churn=1, event_time='2018-10-08 09:48:59', registration_time='2018-09-27 02:45:40', hour=9, day=8, month=10),\n",
       " Row(artist='Uffie', auth='Logged In', firstName='Darianna', gender='F', itemInSession=4, lastName='Carpenter', length=227.52608, level='free', location='Bridgeport-Stamford-Norwalk, CT', method='PUT', page='NextSong', registration=1538016340000, sessionId=62, song='Dismissed (Uffie)', status=200, ts=1538992389000, userAgent='\"Mozilla/5.0 (iPhone; CPU iPhone OS 7_1_2 like Mac OS X) AppleWebKit/537.51.2 (KHTML, like Gecko) Version/7.0 Mobile/11D257 Safari/9537.53\"', userId='100010', downgrade_event=0, downgrade=0, churn_event=0, churn=1, event_time='2018-10-08 09:53:09', registration_time='2018-09-27 02:45:40', hour=9, day=8, month=10)]"
      ]
     },
     "execution_count": 21,
     "metadata": {},
     "output_type": "execute_result"
    }
   ],
   "source": [
    "# Let's make sure that the new columns looks as expected\n",
    "df_spark.take(5)"
   ]
  },
  {
   "cell_type": "markdown",
   "metadata": {},
   "source": [
    "Now, we can go onto extracting and analysing downgrade and churn event and whether they are related to different variables that we have in the dataset. Let's remind ourselves, what the dataset looks like:"
   ]
  },
  {
   "cell_type": "code",
   "execution_count": 22,
   "metadata": {},
   "outputs": [
    {
     "data": {
      "text/html": [
       "<div>\n",
       "<style scoped>\n",
       "    .dataframe tbody tr th:only-of-type {\n",
       "        vertical-align: middle;\n",
       "    }\n",
       "\n",
       "    .dataframe tbody tr th {\n",
       "        vertical-align: top;\n",
       "    }\n",
       "\n",
       "    .dataframe thead th {\n",
       "        text-align: right;\n",
       "    }\n",
       "</style>\n",
       "<table border=\"1\" class=\"dataframe\">\n",
       "  <thead>\n",
       "    <tr style=\"text-align: right;\">\n",
       "      <th></th>\n",
       "      <th>artist</th>\n",
       "      <th>auth</th>\n",
       "      <th>firstName</th>\n",
       "      <th>gender</th>\n",
       "      <th>itemInSession</th>\n",
       "      <th>lastName</th>\n",
       "      <th>length</th>\n",
       "      <th>level</th>\n",
       "      <th>location</th>\n",
       "      <th>method</th>\n",
       "      <th>...</th>\n",
       "      <th>userId</th>\n",
       "      <th>downgrade_event</th>\n",
       "      <th>downgrade</th>\n",
       "      <th>churn_event</th>\n",
       "      <th>churn</th>\n",
       "      <th>event_time</th>\n",
       "      <th>registration_time</th>\n",
       "      <th>hour</th>\n",
       "      <th>day</th>\n",
       "      <th>month</th>\n",
       "    </tr>\n",
       "  </thead>\n",
       "  <tbody>\n",
       "    <tr>\n",
       "      <th>0</th>\n",
       "      <td>Darude</td>\n",
       "      <td>Logged In</td>\n",
       "      <td>Darianna</td>\n",
       "      <td>F</td>\n",
       "      <td>0</td>\n",
       "      <td>Carpenter</td>\n",
       "      <td>226.08934</td>\n",
       "      <td>free</td>\n",
       "      <td>Bridgeport-Stamford-Norwalk, CT</td>\n",
       "      <td>PUT</td>\n",
       "      <td>...</td>\n",
       "      <td>100010</td>\n",
       "      <td>0</td>\n",
       "      <td>0</td>\n",
       "      <td>0</td>\n",
       "      <td>1</td>\n",
       "      <td>2018-10-08 09:36:32</td>\n",
       "      <td>2018-09-27 02:45:40</td>\n",
       "      <td>9</td>\n",
       "      <td>8</td>\n",
       "      <td>10</td>\n",
       "    </tr>\n",
       "    <tr>\n",
       "      <th>1</th>\n",
       "      <td>Justice</td>\n",
       "      <td>Logged In</td>\n",
       "      <td>Darianna</td>\n",
       "      <td>F</td>\n",
       "      <td>1</td>\n",
       "      <td>Carpenter</td>\n",
       "      <td>285.41342</td>\n",
       "      <td>free</td>\n",
       "      <td>Bridgeport-Stamford-Norwalk, CT</td>\n",
       "      <td>PUT</td>\n",
       "      <td>...</td>\n",
       "      <td>100010</td>\n",
       "      <td>0</td>\n",
       "      <td>0</td>\n",
       "      <td>0</td>\n",
       "      <td>1</td>\n",
       "      <td>2018-10-08 09:40:18</td>\n",
       "      <td>2018-09-27 02:45:40</td>\n",
       "      <td>9</td>\n",
       "      <td>8</td>\n",
       "      <td>10</td>\n",
       "    </tr>\n",
       "    <tr>\n",
       "      <th>2</th>\n",
       "      <td>Five Iron Frenzy</td>\n",
       "      <td>Logged In</td>\n",
       "      <td>Darianna</td>\n",
       "      <td>F</td>\n",
       "      <td>2</td>\n",
       "      <td>Carpenter</td>\n",
       "      <td>236.09424</td>\n",
       "      <td>free</td>\n",
       "      <td>Bridgeport-Stamford-Norwalk, CT</td>\n",
       "      <td>PUT</td>\n",
       "      <td>...</td>\n",
       "      <td>100010</td>\n",
       "      <td>0</td>\n",
       "      <td>0</td>\n",
       "      <td>0</td>\n",
       "      <td>1</td>\n",
       "      <td>2018-10-08 09:45:03</td>\n",
       "      <td>2018-09-27 02:45:40</td>\n",
       "      <td>9</td>\n",
       "      <td>8</td>\n",
       "      <td>10</td>\n",
       "    </tr>\n",
       "    <tr>\n",
       "      <th>3</th>\n",
       "      <td>Carpenters</td>\n",
       "      <td>Logged In</td>\n",
       "      <td>Darianna</td>\n",
       "      <td>F</td>\n",
       "      <td>3</td>\n",
       "      <td>Carpenter</td>\n",
       "      <td>250.25261</td>\n",
       "      <td>free</td>\n",
       "      <td>Bridgeport-Stamford-Norwalk, CT</td>\n",
       "      <td>PUT</td>\n",
       "      <td>...</td>\n",
       "      <td>100010</td>\n",
       "      <td>0</td>\n",
       "      <td>0</td>\n",
       "      <td>0</td>\n",
       "      <td>1</td>\n",
       "      <td>2018-10-08 09:48:59</td>\n",
       "      <td>2018-09-27 02:45:40</td>\n",
       "      <td>9</td>\n",
       "      <td>8</td>\n",
       "      <td>10</td>\n",
       "    </tr>\n",
       "    <tr>\n",
       "      <th>4</th>\n",
       "      <td>Uffie</td>\n",
       "      <td>Logged In</td>\n",
       "      <td>Darianna</td>\n",
       "      <td>F</td>\n",
       "      <td>4</td>\n",
       "      <td>Carpenter</td>\n",
       "      <td>227.52608</td>\n",
       "      <td>free</td>\n",
       "      <td>Bridgeport-Stamford-Norwalk, CT</td>\n",
       "      <td>PUT</td>\n",
       "      <td>...</td>\n",
       "      <td>100010</td>\n",
       "      <td>0</td>\n",
       "      <td>0</td>\n",
       "      <td>0</td>\n",
       "      <td>1</td>\n",
       "      <td>2018-10-08 09:53:09</td>\n",
       "      <td>2018-09-27 02:45:40</td>\n",
       "      <td>9</td>\n",
       "      <td>8</td>\n",
       "      <td>10</td>\n",
       "    </tr>\n",
       "  </tbody>\n",
       "</table>\n",
       "<p>5 rows × 27 columns</p>\n",
       "</div>"
      ],
      "text/plain": [
       "             artist       auth firstName gender  itemInSession   lastName  \\\n",
       "0            Darude  Logged In  Darianna      F              0  Carpenter   \n",
       "1           Justice  Logged In  Darianna      F              1  Carpenter   \n",
       "2  Five Iron Frenzy  Logged In  Darianna      F              2  Carpenter   \n",
       "3        Carpenters  Logged In  Darianna      F              3  Carpenter   \n",
       "4             Uffie  Logged In  Darianna      F              4  Carpenter   \n",
       "\n",
       "      length level                         location method  ...  userId  \\\n",
       "0  226.08934  free  Bridgeport-Stamford-Norwalk, CT    PUT  ...  100010   \n",
       "1  285.41342  free  Bridgeport-Stamford-Norwalk, CT    PUT  ...  100010   \n",
       "2  236.09424  free  Bridgeport-Stamford-Norwalk, CT    PUT  ...  100010   \n",
       "3  250.25261  free  Bridgeport-Stamford-Norwalk, CT    PUT  ...  100010   \n",
       "4  227.52608  free  Bridgeport-Stamford-Norwalk, CT    PUT  ...  100010   \n",
       "\n",
       "   downgrade_event  downgrade churn_event  churn           event_time  \\\n",
       "0                0          0           0      1  2018-10-08 09:36:32   \n",
       "1                0          0           0      1  2018-10-08 09:40:18   \n",
       "2                0          0           0      1  2018-10-08 09:45:03   \n",
       "3                0          0           0      1  2018-10-08 09:48:59   \n",
       "4                0          0           0      1  2018-10-08 09:53:09   \n",
       "\n",
       "     registration_time hour  day  month  \n",
       "0  2018-09-27 02:45:40    9    8     10  \n",
       "1  2018-09-27 02:45:40    9    8     10  \n",
       "2  2018-09-27 02:45:40    9    8     10  \n",
       "3  2018-09-27 02:45:40    9    8     10  \n",
       "4  2018-09-27 02:45:40    9    8     10  \n",
       "\n",
       "[5 rows x 27 columns]"
      ]
     },
     "execution_count": 22,
     "metadata": {},
     "output_type": "execute_result"
    }
   ],
   "source": [
    "df_pd = df_spark.toPandas()\n",
    "df_pd.head()"
   ]
  },
  {
   "cell_type": "markdown",
   "metadata": {},
   "source": [
    "#### Gender"
   ]
  },
  {
   "cell_type": "code",
   "execution_count": 23,
   "metadata": {},
   "outputs": [],
   "source": [
    "gender_churn = df_spark.dropDuplicates([\"userId\", \"gender\"]).groupby([\"churn\", \"gender\"]).count().sort(\"churn\").toPandas()"
   ]
  },
  {
   "cell_type": "code",
   "execution_count": 24,
   "metadata": {},
   "outputs": [
    {
     "data": {
      "image/png": "[encoded data removed]",
      "text/plain": [
       "<Figure size 432x288 with 1 Axes>"
      ]
     },
     "metadata": {
      "needs_background": "light"
     },
     "output_type": "display_data"
    }
   ],
   "source": [
    "ax = sns.barplot(x='churn', y='count', hue='gender', data=gender_churn)\n",
    "plt.xlabel('Customer churn status')\n",
    "plt.ylabel('Count')\n",
    "plt.legend(title='Gender', loc='best')\n",
    "plt.title('Chrun rates split by gender')\n",
    "sns.despine(ax=ax);"
   ]
  },
  {
   "cell_type": "markdown",
   "metadata": {},
   "source": [
    "It looks like male customers represent a bigger population overall and hence there are more churned customers that are male. "
   ]
  },
  {
   "cell_type": "markdown",
   "metadata": {},
   "source": [
    "##### Number of songs played by gender"
   ]
  },
  {
   "cell_type": "code",
   "execution_count": 25,
   "metadata": {},
   "outputs": [],
   "source": [
    "songs_gender_churn = df_spark.where('page == \"NextSong\"').groupby(['churn', 'userId', 'sessionId','gender']).count()\\\n",
    "    .groupby(['churn', 'userId', 'gender']).agg({'count':'avg'})\\\n",
    "    .withColumnRenamed('avg(count)', 'avg_songs_played')\\\n",
    "    .toPandas()"
   ]
  },
  {
   "cell_type": "code",
   "execution_count": 26,
   "metadata": {},
   "outputs": [
    {
     "data": {
      "image/png": "[encoded data removed]",
      "text/plain": [
       "<Figure size 432x288 with 1 Axes>"
      ]
     },
     "metadata": {
      "needs_background": "light"
     },
     "output_type": "display_data"
    }
   ],
   "source": [
    "ax = sns.violinplot('churn', y='avg_songs_played', hue='gender', data=songs_gender_churn)\n",
    "plt.xlabel('Customer churn status')\n",
    "plt.ylabel('Average songs played per session')\n",
    "plt.legend(title='Gender', loc='upper left')\n",
    "plt.title('Number of songs played per session')\n",
    "sns.despine(ax=ax);"
   ]
  },
  {
   "cell_type": "markdown",
   "metadata": {},
   "source": [
    "Looks like churned customers played fewer songs on average but there is a bigger tail of outliers of male churned customers"
   ]
  },
  {
   "cell_type": "code",
   "execution_count": 27,
   "metadata": {},
   "outputs": [],
   "source": [
    "gender_downgrade = df_spark.dropDuplicates([\"userId\", \"gender\"]).groupby([\"downgrade\", \"gender\"]).count().sort(\"downgrade\").toPandas()"
   ]
  },
  {
   "cell_type": "code",
   "execution_count": 28,
   "metadata": {},
   "outputs": [
    {
     "data": {
      "image/png": "[encoded data removed]",
      "text/plain": [
       "<Figure size 432x288 with 1 Axes>"
      ]
     },
     "metadata": {
      "needs_background": "light"
     },
     "output_type": "display_data"
    }
   ],
   "source": [
    "ax = sns.barplot(x='downgrade', y='count', hue='gender', data=gender_downgrade)\n",
    "plt.xlabel('Customer downgrade status')\n",
    "plt.ylabel('Count')\n",
    "plt.legend(title='Gender', loc='best')\n",
    "plt.title('Downgrade rates split by gender')\n",
    "sns.despine(ax=ax);"
   ]
  },
  {
   "cell_type": "markdown",
   "metadata": {},
   "source": [
    "The situation looks very similar in regards to donwgrade rates."
   ]
  },
  {
   "cell_type": "code",
   "execution_count": 29,
   "metadata": {},
   "outputs": [],
   "source": [
    "songs_gender_downgrade = df_spark.where('page == \"NextSong\"').groupby(['downgrade', 'userId', 'sessionId','gender']).count()\\\n",
    "    .groupby(['downgrade', 'userId', 'gender']).agg({'count':'avg'})\\\n",
    "    .withColumnRenamed('avg(count)', 'avg_songs_played')\\\n",
    "    .toPandas()"
   ]
  },
  {
   "cell_type": "code",
   "execution_count": 30,
   "metadata": {},
   "outputs": [
    {
     "data": {
      "image/png": "[encoded data removed]",
      "text/plain": [
       "<Figure size 432x288 with 1 Axes>"
      ]
     },
     "metadata": {
      "needs_background": "light"
     },
     "output_type": "display_data"
    }
   ],
   "source": [
    "ax = sns.violinplot('downgrade', y='avg_songs_played', hue='gender', data=songs_gender_downgrade)\n",
    "plt.xlabel('Customer downgrade status')\n",
    "plt.ylabel('Average songs played per session')\n",
    "plt.legend(title='Gender', loc='upper left')\n",
    "plt.title('Number of songs played per session')\n",
    "sns.despine(ax=ax);"
   ]
  },
  {
   "cell_type": "markdown",
   "metadata": {},
   "source": [
    "We can see that downgraded customers played fewer songs as expected."
   ]
  },
  {
   "cell_type": "markdown",
   "metadata": {},
   "source": [
    "#### Level\n",
    "Let's examine the split of churn and downgrade rates when the data is split by paid/free levels."
   ]
  },
  {
   "cell_type": "code",
   "execution_count": 31,
   "metadata": {},
   "outputs": [],
   "source": [
    "level_churn = df_spark.dropDuplicates([\"userId\", \"level\"]).groupby([\"churn\", \"level\"]).count().sort(\"churn\").toPandas()"
   ]
  },
  {
   "cell_type": "code",
   "execution_count": 32,
   "metadata": {
    "scrolled": true
   },
   "outputs": [
    {
     "data": {
      "image/png": "[encoded data removed]",
      "text/plain": [
       "<Figure size 432x288 with 1 Axes>"
      ]
     },
     "metadata": {
      "needs_background": "light"
     },
     "output_type": "display_data"
    }
   ],
   "source": [
    "ax = sns.barplot(x='churn', y='count', hue='level', data=level_churn)\n",
    "plt.xlabel('Customer churn status')\n",
    "plt.ylabel('Count')\n",
    "plt.legend(title='Level', loc='best')\n",
    "plt.title('Chrun rates split by paid/free level')\n",
    "sns.despine(ax=ax);"
   ]
  },
  {
   "cell_type": "markdown",
   "metadata": {},
   "source": [
    "It looks like slightly more non-paying customers have churned, which I find surprising. "
   ]
  },
  {
   "cell_type": "code",
   "execution_count": 33,
   "metadata": {},
   "outputs": [],
   "source": [
    "level_downgrade = df_spark.dropDuplicates([\"userId\", \"level\"]).groupby([\"downgrade\", \"level\"]).count().sort(\"downgrade\").toPandas()"
   ]
  },
  {
   "cell_type": "code",
   "execution_count": 34,
   "metadata": {},
   "outputs": [
    {
     "data": {
      "image/png": "[encoded data removed]",
      "text/plain": [
       "<Figure size 432x288 with 1 Axes>"
      ]
     },
     "metadata": {
      "needs_background": "light"
     },
     "output_type": "display_data"
    }
   ],
   "source": [
    "ax = sns.barplot(x='downgrade', y='count', hue='level', data=level_downgrade)\n",
    "plt.xlabel('Customer downgrade status')\n",
    "plt.ylabel('Count')\n",
    "plt.legend(title='Level', loc='best')\n",
    "plt.title('Downgrade rates split by paid/free level')\n",
    "sns.despine(ax=ax);"
   ]
  },
  {
   "cell_type": "markdown",
   "metadata": {},
   "source": [
    "It looks like there is no difference in downgrade between paying and non - paying customers. "
   ]
  },
  {
   "cell_type": "markdown",
   "metadata": {},
   "source": [
    "#### Page"
   ]
  },
  {
   "cell_type": "code",
   "execution_count": 35,
   "metadata": {},
   "outputs": [],
   "source": [
    "# We know that only customers who are churning will have pages 'Cancel' and 'Cancellation Confirmation' so we remove them from this investigation\n",
    "df_spark_filtered = df_spark.filter((df_spark.page != 'Cancel') &(df_spark.page != 'Cancellation Confirmation'))"
   ]
  },
  {
   "cell_type": "code",
   "execution_count": 36,
   "metadata": {},
   "outputs": [],
   "source": [
    "page_churn = df_spark_filtered.dropDuplicates([\"userId\", \"page\"]).groupby([\"churn\", \"page\"]).count().sort(\"churn\").toPandas()"
   ]
  },
  {
   "cell_type": "code",
   "execution_count": 37,
   "metadata": {
    "scrolled": true
   },
   "outputs": [
    {
     "data": {
      "image/png": "[encoded data removed]",
      "text/plain": [
       "<Figure size 432x288 with 1 Axes>"
      ]
     },
     "metadata": {
      "needs_background": "light"
     },
     "output_type": "display_data"
    }
   ],
   "source": [
    "ax = sns.barplot(x='page', y='count', hue='churn', data=page_churn)\n",
    "plt.xlabel('Pages customers visited')\n",
    "plt.ylabel('Count')\n",
    "plt.legend(title='Churn', loc='upper right')\n",
    "plt.title('Chrun rates split by page visited')\n",
    "ax.set_xticklabels(ax.get_xticklabels(), rotation=90)\n",
    "sns.despine(ax=ax);"
   ]
  },
  {
   "cell_type": "code",
   "execution_count": 38,
   "metadata": {},
   "outputs": [],
   "source": [
    "# We know that only customers who are churning will have page 'Submit Downgrade' so we remove it from this investigation\n",
    "df_spark_filtered2 = df_spark.filter((df_spark.page != 'Submit Downgrade'))"
   ]
  },
  {
   "cell_type": "code",
   "execution_count": 39,
   "metadata": {},
   "outputs": [],
   "source": [
    "page_downgrade = df_spark_filtered2.dropDuplicates([\"userId\", \"page\"]).groupby([\"downgrade\", \"page\"]).count().sort(\"downgrade\").toPandas()"
   ]
  },
  {
   "cell_type": "code",
   "execution_count": 40,
   "metadata": {},
   "outputs": [
    {
     "data": {
      "image/png": "[encoded data removed]",
      "text/plain": [
       "<Figure size 432x288 with 1 Axes>"
      ]
     },
     "metadata": {
      "needs_background": "light"
     },
     "output_type": "display_data"
    }
   ],
   "source": [
    "ax = sns.barplot(x='page', y='count', hue='downgrade', data=page_downgrade)\n",
    "plt.xlabel('Pages customers visited')\n",
    "plt.ylabel('Count')\n",
    "plt.legend(title='Downgrade', loc='upper right')\n",
    "plt.title('Downgrade rates split by page visited')\n",
    "ax.set_xticklabels(ax.get_xticklabels(), rotation=90)\n",
    "sns.despine(ax=ax);"
   ]
  },
  {
   "cell_type": "markdown",
   "metadata": {},
   "source": [
    "We can see that downgraded customers have a bigger share of seeing the 'Error' page and perhaps 'Save Settings'"
   ]
  },
  {
   "cell_type": "markdown",
   "metadata": {},
   "source": [
    "#### Hour of the Day"
   ]
  },
  {
   "cell_type": "code",
   "execution_count": 41,
   "metadata": {},
   "outputs": [],
   "source": [
    "hour_churn = df_spark.dropDuplicates([\"userId\", \"hour\"]).groupby([\"churn\", \"hour\"]).count().sort(\"churn\").toPandas()"
   ]
  },
  {
   "cell_type": "code",
   "execution_count": 42,
   "metadata": {},
   "outputs": [
    {
     "data": {
      "image/png": "[encoded data removed]",
      "text/plain": [
       "<Figure size 1080x576 with 1 Axes>"
      ]
     },
     "metadata": {
      "needs_background": "light"
     },
     "output_type": "display_data"
    }
   ],
   "source": [
    "plt.figure(figsize=(15,8))\n",
    "ax = sns.barplot(x='hour', y='count', hue='churn', data=hour_churn)\n",
    "plt.xlabel('Time of the day')\n",
    "plt.ylabel('Count')\n",
    "plt.legend(title='Churn', loc='best')\n",
    "plt.title('Chrun rates split by hours of the day')\n",
    "sns.despine(ax=ax);"
   ]
  },
  {
   "cell_type": "markdown",
   "metadata": {},
   "source": [
    "We can see that the churning pattern follows the general usage pattern, going up arounf noon for about 7 hours."
   ]
  },
  {
   "cell_type": "code",
   "execution_count": 43,
   "metadata": {},
   "outputs": [],
   "source": [
    "hour_downgrade = df_spark.dropDuplicates([\"userId\", \"hour\"]).groupby([\"downgrade\", \"hour\"]).count().sort(\"downgrade\").toPandas()"
   ]
  },
  {
   "cell_type": "code",
   "execution_count": 44,
   "metadata": {},
   "outputs": [
    {
     "data": {
      "image/png": "[encoded data removed]",
      "text/plain": [
       "<Figure size 1080x576 with 1 Axes>"
      ]
     },
     "metadata": {
      "needs_background": "light"
     },
     "output_type": "display_data"
    }
   ],
   "source": [
    "plt.figure(figsize=(15,8))\n",
    "ax = sns.barplot(x='hour', y='count', hue='downgrade', data=hour_downgrade)\n",
    "plt.xlabel('Time of the day')\n",
    "plt.ylabel('Count')\n",
    "plt.legend(title='Downgrade', loc='best')\n",
    "plt.title('Downgrade rates split by hours of the day')\n",
    "sns.despine(ax=ax);"
   ]
  },
  {
   "cell_type": "markdown",
   "metadata": {},
   "source": [
    "The above graph shows that there is no spike in account downgrade following the spike in general account usage, which is unexpected. "
   ]
  },
  {
   "cell_type": "markdown",
   "metadata": {},
   "source": [
    "#### Day of the Month"
   ]
  },
  {
   "cell_type": "code",
   "execution_count": 45,
   "metadata": {},
   "outputs": [],
   "source": [
    "day_churn = df_spark.dropDuplicates([\"userId\", \"day\"]).groupby([\"churn\", \"day\"]).count().sort(\"churn\").toPandas()"
   ]
  },
  {
   "cell_type": "code",
   "execution_count": 46,
   "metadata": {},
   "outputs": [
    {
     "data": {
      "image/png": "[encoded data removed]",
      "text/plain": [
       "<Figure size 1080x576 with 1 Axes>"
      ]
     },
     "metadata": {
      "needs_background": "light"
     },
     "output_type": "display_data"
    }
   ],
   "source": [
    "plt.figure(figsize=(15,8))\n",
    "ax = sns.barplot(x='day', y='count', hue='churn', data=day_churn)\n",
    "plt.xlabel('Day of the Month')\n",
    "plt.ylabel('Count')\n",
    "plt.legend(title='Churn', loc='best')\n",
    "plt.title('Chrun rates split by day of the month')\n",
    "sns.despine(ax=ax);"
   ]
  },
  {
   "cell_type": "markdown",
   "metadata": {},
   "source": [
    "From the above graph we can see that churn rates are higher in the beginning of the month perhaps due to the timings of salary being paid or bills being due."
   ]
  },
  {
   "cell_type": "code",
   "execution_count": 47,
   "metadata": {},
   "outputs": [],
   "source": [
    "day_downgrade = df_spark.dropDuplicates([\"userId\", \"day\"]).groupby([\"downgrade\", \"day\"]).count().sort(\"downgrade\").toPandas()"
   ]
  },
  {
   "cell_type": "code",
   "execution_count": 48,
   "metadata": {},
   "outputs": [
    {
     "data": {
      "image/png": "[encoded data removed]",
      "text/plain": [
       "<Figure size 1080x576 with 1 Axes>"
      ]
     },
     "metadata": {
      "needs_background": "light"
     },
     "output_type": "display_data"
    }
   ],
   "source": [
    "plt.figure(figsize=(15,8))\n",
    "ax = sns.barplot(x='day', y='count', hue='downgrade', data=day_downgrade)\n",
    "plt.xlabel('Day of the Month')\n",
    "plt.ylabel('Count')\n",
    "plt.legend(title='Downgrade', loc='best')\n",
    "plt.title('Downgrade rates split by day of the month')\n",
    "sns.despine(ax=ax);"
   ]
  },
  {
   "cell_type": "markdown",
   "metadata": {},
   "source": [
    "From the above graph we can see that downgrade does not follow a similar trend, but rather has a few spikes around the 1st and 2nd, 8th, 9th, 10th and towards teh end of the month."
   ]
  },
  {
   "cell_type": "markdown",
   "metadata": {},
   "source": [
    "#### Month"
   ]
  },
  {
   "cell_type": "code",
   "execution_count": 49,
   "metadata": {},
   "outputs": [
    {
     "name": "stdout",
     "output_type": "stream",
     "text": [
      "+-----+\n",
      "|month|\n",
      "+-----+\n",
      "|   12|\n",
      "|   10|\n",
      "|   11|\n",
      "+-----+\n",
      "\n"
     ]
    }
   ],
   "source": [
    "df_spark.select(\"month\").distinct().show()"
   ]
  },
  {
   "cell_type": "markdown",
   "metadata": {},
   "source": [
    "Unfortunately, we only have data for October, November and December. Hence, I will not examine with this split because no yearly trend will be observed. "
   ]
  },
  {
   "cell_type": "markdown",
   "metadata": {},
   "source": [
    "## Feature Engineering"
   ]
  },
  {
   "cell_type": "markdown",
   "metadata": {},
   "source": [
    "Now that I am familiar wih the dataset and its features, I will choose the features that I find promising to later train my model on."
   ]
  },
  {
   "cell_type": "markdown",
   "metadata": {},
   "source": [
    "##### 1. Gender\n",
    "I want to include a demographic feature and I dont think location is particularly applicable in this sutuation so I will include gender. Please note, that I have replaced M and F with 0 and 1 labels respectively."
   ]
  },
  {
   "cell_type": "code",
   "execution_count": 50,
   "metadata": {},
   "outputs": [],
   "source": [
    "f1 = df_spark \\\n",
    "    .select(\"userId\", \"gender\") \\\n",
    "    .dropDuplicates() \\\n",
    "    .replace(['M', 'F'], ['0', '1'], 'gender') \\\n",
    "    .select('userId', col('gender').cast('int'))"
   ]
  },
  {
   "cell_type": "code",
   "execution_count": 51,
   "metadata": {},
   "outputs": [
    {
     "name": "stdout",
     "output_type": "stream",
     "text": [
      "+-------+------------------+-------------------+\n",
      "|summary|            userId|             gender|\n",
      "+-------+------------------+-------------------+\n",
      "|  count|               448|                448|\n",
      "|   mean| 67520.34821428571| 0.4419642857142857|\n",
      "| stddev|105964.58428485187|0.49717562790790404|\n",
      "|    min|                10|                  0|\n",
      "|    max|                99|                  1|\n",
      "+-------+------------------+-------------------+\n",
      "\n"
     ]
    }
   ],
   "source": [
    "f1.describe().show()"
   ]
  },
  {
   "cell_type": "markdown",
   "metadata": {},
   "source": [
    "##### 2. Paid vs Free\n",
    "I want to examine whether being a paying customer affects churning rates"
   ]
  },
  {
   "cell_type": "code",
   "execution_count": 52,
   "metadata": {},
   "outputs": [],
   "source": [
    "f2 = df_spark \\\n",
    "    .select(\"userId\", \"level\") \\\n",
    "    .dropDuplicates() \\\n",
    "    .replace(['free', 'paid'], ['0', '1'], 'level') \\\n",
    "    .select('userId', col('level').cast('int'))"
   ]
  },
  {
   "cell_type": "code",
   "execution_count": 53,
   "metadata": {},
   "outputs": [
    {
     "name": "stdout",
     "output_type": "stream",
     "text": [
      "+-------+-----------------+------------------+\n",
      "|summary|           userId|             level|\n",
      "+-------+-----------------+------------------+\n",
      "|  count|              691|               691|\n",
      "|   mean|67259.47033285093|0.4645441389290883|\n",
      "| stddev|106161.0250663008|0.4991025734716591|\n",
      "|    min|               10|                 0|\n",
      "|    max|               99|                 1|\n",
      "+-------+-----------------+------------------+\n",
      "\n"
     ]
    }
   ],
   "source": [
    "f2.describe().show()"
   ]
  },
  {
   "cell_type": "markdown",
   "metadata": {},
   "source": [
    "##### 3. Number of sessions\n",
    "Now, I want to explore the different features that represent customer's engagement with the site, starting with how many sessions they had i.e. logged in."
   ]
  },
  {
   "cell_type": "code",
   "execution_count": 54,
   "metadata": {},
   "outputs": [],
   "source": [
    "f3 = df_spark \\\n",
    "    .select('userID','sessionId') \\\n",
    "    .groupBy('userID') \\\n",
    "    .count() \\\n",
    "    .withColumnRenamed('count', 'total_sessions')"
   ]
  },
  {
   "cell_type": "code",
   "execution_count": 55,
   "metadata": {
    "scrolled": true
   },
   "outputs": [
    {
     "name": "stdout",
     "output_type": "stream",
     "text": [
      "+-------+------------------+------------------+\n",
      "|summary|            userID|    total_sessions|\n",
      "+-------+------------------+------------------+\n",
      "|  count|               448|               448|\n",
      "|   mean| 67520.34821428571|1178.5825892857142|\n",
      "| stddev|105964.58428485185| 1380.627964752405|\n",
      "|    min|                10|                 3|\n",
      "|    max|                99|              9767|\n",
      "+-------+------------------+------------------+\n",
      "\n"
     ]
    }
   ],
   "source": [
    "f3.describe().show()"
   ]
  },
  {
   "cell_type": "markdown",
   "metadata": {},
   "source": [
    "##### 4. Number of thumbs up\n",
    "Number of songs that customer has liked and 'thumbed up' represents engagement with the site"
   ]
  },
  {
   "cell_type": "code",
   "execution_count": 56,
   "metadata": {},
   "outputs": [],
   "source": [
    "f4 = df_spark \\\n",
    "    .select('userID','page') \\\n",
    "    .where(df_spark.page == 'Thumbs Up') \\\n",
    "    .groupBy('userID') \\\n",
    "    .count() \\\n",
    "    .withColumnRenamed('count', 'num_thumb_up')"
   ]
  },
  {
   "cell_type": "code",
   "execution_count": 57,
   "metadata": {},
   "outputs": [
    {
     "name": "stdout",
     "output_type": "stream",
     "text": [
      "+-------+------------------+-----------------+\n",
      "|summary|            userID|     num_thumb_up|\n",
      "+-------+------------------+-----------------+\n",
      "|  count|               439|              439|\n",
      "|   mean| 67308.81548974942|54.27334851936219|\n",
      "| stddev|106228.80408254784|69.94135178778984|\n",
      "|    min|                10|                1|\n",
      "|    max|                99|              506|\n",
      "+-------+------------------+-----------------+\n",
      "\n"
     ]
    }
   ],
   "source": [
    "f4.describe().show()"
   ]
  },
  {
   "cell_type": "markdown",
   "metadata": {},
   "source": [
    "##### 5. Number of thumbs down\n",
    "Similarly as the feature above, the number of thumbs down represents customer not enjoying songs"
   ]
  },
  {
   "cell_type": "code",
   "execution_count": 58,
   "metadata": {},
   "outputs": [],
   "source": [
    "f5 = df_spark \\\n",
    "    .select('userID','page') \\\n",
    "    .where(df_spark.page == 'Thumbs Down') \\\n",
    "    .groupBy('userID') \\\n",
    "    .count() \\\n",
    "    .withColumnRenamed('count', 'num_thumb_down')"
   ]
  },
  {
   "cell_type": "code",
   "execution_count": 59,
   "metadata": {},
   "outputs": [
    {
     "name": "stdout",
     "output_type": "stream",
     "text": [
      "+-------+------------------+------------------+\n",
      "|summary|            userID|    num_thumb_down|\n",
      "+-------+------------------+------------------+\n",
      "|  count|               389|               389|\n",
      "|   mean| 70031.19537275065|12.624678663239074|\n",
      "| stddev|106895.73735311363|13.582432851937991|\n",
      "|    min|                10|                 1|\n",
      "|    max|                99|                80|\n",
      "+-------+------------------+------------------+\n",
      "\n"
     ]
    }
   ],
   "source": [
    "f5.describe().show()"
   ]
  },
  {
   "cell_type": "markdown",
   "metadata": {},
   "source": [
    "##### 6. Number of friends added\n",
    "Similarly to above, the number of friends added should correspond to the engagement and enjoyment of the product."
   ]
  },
  {
   "cell_type": "code",
   "execution_count": 60,
   "metadata": {},
   "outputs": [],
   "source": [
    "f6 = df_spark \\\n",
    "    .select('userID','page') \\\n",
    "    .where(df_spark.page == 'Add Friend') \\\n",
    "    .groupBy('userID') \\\n",
    "    .count() \\\n",
    "    .withColumnRenamed('count', 'add_friend')"
   ]
  },
  {
   "cell_type": "code",
   "execution_count": 61,
   "metadata": {},
   "outputs": [
    {
     "name": "stdout",
     "output_type": "stream",
     "text": [
      "+-------+------------------+------------------+\n",
      "|summary|            userID|        add_friend|\n",
      "+-------+------------------+------------------+\n",
      "|  count|               409|               409|\n",
      "|   mean|  66368.3716381418|19.772616136919314|\n",
      "| stddev|106064.01609030593|22.494435766272826|\n",
      "|    min|                10|                 1|\n",
      "|    max|                99|               158|\n",
      "+-------+------------------+------------------+\n",
      "\n"
     ]
    }
   ],
   "source": [
    "f6.describe().show()"
   ]
  },
  {
   "cell_type": "markdown",
   "metadata": {},
   "source": [
    "##### 7. Number of 'next song' clicks\n",
    "The number of times the customer clicks 'Next Song' could be indicative that they are enjoying their experience."
   ]
  },
  {
   "cell_type": "code",
   "execution_count": 62,
   "metadata": {},
   "outputs": [],
   "source": [
    "f7 = df_spark.where('page == \"NextSong\"') \\\n",
    "    .groupby(['userId', 'sessionId']) \\\n",
    "    .count() \\\n",
    "    .groupby(['userId']) \\\n",
    "    .agg({'count':'avg'}) \\\n",
    "    .withColumnRenamed('avg(count)', 'avg_songs_played')"
   ]
  },
  {
   "cell_type": "code",
   "execution_count": 63,
   "metadata": {},
   "outputs": [
    {
     "name": "stdout",
     "output_type": "stream",
     "text": [
      "+-------+------------------+------------------+\n",
      "|summary|            userId|  avg_songs_played|\n",
      "+-------+------------------+------------------+\n",
      "|  count|               448|               448|\n",
      "|   mean| 67520.34821428571| 65.61168409976811|\n",
      "| stddev|105964.58428485185|39.494965666172675|\n",
      "|    min|                10|               1.0|\n",
      "|    max|                99|             360.0|\n",
      "+-------+------------------+------------------+\n",
      "\n"
     ]
    }
   ],
   "source": [
    "f7.describe().show()"
   ]
  },
  {
   "cell_type": "markdown",
   "metadata": {},
   "source": [
    "##### 8. Number of songs added to a playlist\n",
    "Similarly to the above, the more songs a customer adds to a playlist, the more likely they are enjoying their experience with the product."
   ]
  },
  {
   "cell_type": "code",
   "execution_count": 64,
   "metadata": {},
   "outputs": [],
   "source": [
    "f8 = df_spark \\\n",
    "    .select('userID','page') \\\n",
    "    .where(df_spark.page == 'Add to Playlist') \\\n",
    "    .groupBy('userID') \\\n",
    "    .count() \\\n",
    "    .withColumnRenamed('count', 'add_to_playlist')"
   ]
  },
  {
   "cell_type": "code",
   "execution_count": 65,
   "metadata": {},
   "outputs": [
    {
     "name": "stdout",
     "output_type": "stream",
     "text": [
      "+-------+------------------+------------------+\n",
      "|summary|            userID|   add_to_playlist|\n",
      "+-------+------------------+------------------+\n",
      "|  count|               428|               428|\n",
      "|   mean| 65764.93457943926|28.852803738317757|\n",
      "| stddev|105363.38578382804|  33.9130906945663|\n",
      "|    min|                10|                 1|\n",
      "|    max|                99|               248|\n",
      "+-------+------------------+------------------+\n",
      "\n"
     ]
    }
   ],
   "source": [
    "f8.describe().show()"
   ]
  },
  {
   "cell_type": "markdown",
   "metadata": {},
   "source": [
    "##### 9. Number of artist\n",
    "Similarly to above, the more artists the user has listned to, teh more likely they are to be enageged with the product."
   ]
  },
  {
   "cell_type": "code",
   "execution_count": 66,
   "metadata": {},
   "outputs": [],
   "source": [
    "f9 = df_spark \\\n",
    "    .filter(df_spark.page==\"NextSong\") \\\n",
    "    .select(\"userId\", \"artist\") \\\n",
    "    .dropDuplicates() \\\n",
    "    .groupby(\"userId\") \\\n",
    "    .count() \\\n",
    "    .withColumnRenamed(\"count\", \"artist_count\")"
   ]
  },
  {
   "cell_type": "code",
   "execution_count": 67,
   "metadata": {},
   "outputs": [
    {
     "name": "stdout",
     "output_type": "stream",
     "text": [
      "+-------+------------------+-----------------+\n",
      "|summary|            userId|     artist_count|\n",
      "+-------+------------------+-----------------+\n",
      "|  count|               448|              448|\n",
      "|   mean| 67520.34821428571|658.9799107142857|\n",
      "| stddev|105964.58428485184|625.8826980519569|\n",
      "|    min|                10|                1|\n",
      "|    max|                99|             3507|\n",
      "+-------+------------------+-----------------+\n",
      "\n"
     ]
    }
   ],
   "source": [
    "f9.describe().show()"
   ]
  },
  {
   "cell_type": "markdown",
   "metadata": {},
   "source": [
    "##### Churn label"
   ]
  },
  {
   "cell_type": "code",
   "execution_count": 68,
   "metadata": {},
   "outputs": [],
   "source": [
    "label = df_spark \\\n",
    "    .select('userId', col('churn').alias('label')) \\\n",
    "    .dropDuplicates()"
   ]
  },
  {
   "cell_type": "code",
   "execution_count": 69,
   "metadata": {},
   "outputs": [
    {
     "name": "stdout",
     "output_type": "stream",
     "text": [
      "+-------+------------------+-------------------+\n",
      "|summary|            userId|              label|\n",
      "+-------+------------------+-------------------+\n",
      "|  count|               448|                448|\n",
      "|   mean| 67520.34821428571|0.22098214285714285|\n",
      "| stddev|105964.58428485188| 0.4153723104396363|\n",
      "|    min|                10|                  0|\n",
      "|    max|                99|                  1|\n",
      "+-------+------------------+-------------------+\n",
      "\n"
     ]
    }
   ],
   "source": [
    "label.describe().show()"
   ]
  },
  {
   "cell_type": "markdown",
   "metadata": {},
   "source": [
    "Joining all of the features together"
   ]
  },
  {
   "cell_type": "code",
   "execution_count": 70,
   "metadata": {},
   "outputs": [
    {
     "name": "stdout",
     "output_type": "stream",
     "text": [
      "+------+-----+--------------+------------+--------------+----------+----------------+---------------+------------+-----+\n",
      "|gender|level|total_sessions|num_thumb_up|num_thumb_down|add_friend|avg_songs_played|add_to_playlist|artist_count|label|\n",
      "+------+-----+--------------+------------+--------------+----------+----------------+---------------+------------+-----+\n",
      "|     1|    0|           137|           4|             3|         3|            48.0|              1|          94|    1|\n",
      "|     0|    0|           395|          15|             5|         2|            62.0|              6|         287|    1|\n",
      "|     0|    1|           395|          15|             5|         2|            62.0|              6|         287|    1|\n",
      "|     1|    1|           152|           8|             0|         2|            22.4|              3|         108|    1|\n",
      "|     1|    0|           152|           8|             0|         2|            22.4|              3|         108|    1|\n",
      "+------+-----+--------------+------------+--------------+----------+----------------+---------------+------------+-----+\n",
      "only showing top 5 rows\n",
      "\n"
     ]
    }
   ],
   "source": [
    "data = f1.join(f2,'userID','outer') \\\n",
    "    .join(f3,'userID','outer') \\\n",
    "    .join(f4,'userID','outer') \\\n",
    "    .join(f5,'userID','outer') \\\n",
    "    .join(f6,'userID','outer') \\\n",
    "    .join(f7,'userID','outer') \\\n",
    "    .join(f8,'userID','outer') \\\n",
    "    .join(f9,'userID','outer') \\\n",
    "    .join(label,'userID','outer') \\\n",
    "    .drop('userID') \\\n",
    "    .fillna(0)\n",
    "\n",
    "data.show(5)"
   ]
  },
  {
   "cell_type": "markdown",
   "metadata": {},
   "source": [
    "## Modelling"
   ]
  },
  {
   "cell_type": "markdown",
   "metadata": {},
   "source": [
    "I will be splitting the dataset into train, test and validation subsets. Then I will be trying out 3 models and evaluation their performance using F-1 score on the validation dataset. However, first I will make sure that the features chosen above are in the right format and are ready to be used in model training."
   ]
  },
  {
   "cell_type": "markdown",
   "metadata": {},
   "source": [
    "### 1. Vectorise the features"
   ]
  },
  {
   "cell_type": "code",
   "execution_count": 71,
   "metadata": {},
   "outputs": [],
   "source": [
    "col = ['gender',\\\n",
    "        'level',\\\n",
    "        'total_sessions',\\\n",
    "        'num_thumb_up',\\\n",
    "        'num_thumb_down',\\\n",
    "        'add_friend',\\\n",
    "        'avg_songs_played',\\\n",
    "        'add_to_playlist',\\\n",
    "        'artist_count']\n",
    "assembler = VectorAssembler(inputCols=col, outputCol=\"NumFeatures\")\n",
    "data = assembler.transform(data)"
   ]
  },
  {
   "cell_type": "markdown",
   "metadata": {},
   "source": [
    "### 2. Normalise the features"
   ]
  },
  {
   "cell_type": "markdown",
   "metadata": {},
   "source": [
    "We also need to normalize the features (subtract mean and divide by standard deviation) so that features with naturally bigger values will not dominate over other features"
   ]
  },
  {
   "cell_type": "code",
   "execution_count": 72,
   "metadata": {},
   "outputs": [],
   "source": [
    "scaler = StandardScaler(inputCol=\"NumFeatures\", outputCol=\"features\", withStd=True)\n",
    "scalerModel = scaler.fit(data)\n",
    "data = scalerModel.transform(data)"
   ]
  },
  {
   "cell_type": "markdown",
   "metadata": {},
   "source": [
    "### 3. Split the dataset"
   ]
  },
  {
   "cell_type": "markdown",
   "metadata": {},
   "source": [
    "I will be splitting the data into Train: Test: Validate subsets with 60:20:20 respectively by performming random split twice. "
   ]
  },
  {
   "cell_type": "code",
   "execution_count": 73,
   "metadata": {},
   "outputs": [],
   "source": [
    "train, rest = data.randomSplit([0.6, 0.4], seed=27)\n",
    "validation, test = rest.randomSplit([0.5, 0.5], seed=27)"
   ]
  },
  {
   "cell_type": "markdown",
   "metadata": {},
   "source": [
    "### 4. Compute the Baseline F-1 score"
   ]
  },
  {
   "cell_type": "code",
   "execution_count": 74,
   "metadata": {},
   "outputs": [
    {
     "name": "stdout",
     "output_type": "stream",
     "text": [
      "+-----+-----+\n",
      "|label|count|\n",
      "+-----+-----+\n",
      "|    1|  157|\n",
      "|    0|  534|\n",
      "+-----+-----+\n",
      "\n"
     ]
    }
   ],
   "source": [
    "data.groupby(\"label\").count().show()"
   ]
  },
  {
   "cell_type": "markdown",
   "metadata": {},
   "source": [
    "As we can see from above, the label column is unbalanced (many more 0 values than 1), we will consider predicting 0 values for all users as the baseline model."
   ]
  },
  {
   "cell_type": "code",
   "execution_count": 75,
   "metadata": {},
   "outputs": [],
   "source": [
    "baseline = test.withColumn('prediction', lit(0.0))"
   ]
  },
  {
   "cell_type": "code",
   "execution_count": 76,
   "metadata": {},
   "outputs": [
    {
     "name": "stdout",
     "output_type": "stream",
     "text": [
      "Baseline model performance:\n",
      "F-1 Score:0.6566804608420276\n"
     ]
    }
   ],
   "source": [
    "evaluator = MulticlassClassificationEvaluator(predictionCol=\"prediction\")\n",
    "print('Baseline model performance:')\n",
    "print('F-1 Score:{}'.format(evaluator.evaluate(baseline, {evaluator.metricName: \"f1\"})))"
   ]
  },
  {
   "cell_type": "markdown",
   "metadata": {},
   "source": [
    "As can be seen from above, the baseline F-1 score is 65% so when picking the best model later on we will keep this figure in mind."
   ]
  },
  {
   "cell_type": "markdown",
   "metadata": {},
   "source": [
    "### 5. Build and train models"
   ]
  },
  {
   "cell_type": "markdown",
   "metadata": {},
   "source": [
    "#### 5.1 Logistic Regression"
   ]
  },
  {
   "cell_type": "code",
   "execution_count": 77,
   "metadata": {},
   "outputs": [],
   "source": [
    "# Initialising the classifier\n",
    "lr = LogisticRegression(maxIter=10)"
   ]
  },
  {
   "cell_type": "code",
   "execution_count": 78,
   "metadata": {},
   "outputs": [],
   "source": [
    "f1_evaluator = MulticlassClassificationEvaluator(metricName='f1')"
   ]
  },
  {
   "cell_type": "code",
   "execution_count": 79,
   "metadata": {},
   "outputs": [],
   "source": [
    "# Building a paramGrid\n",
    "paramGrid = ParamGridBuilder() \\\n",
    "    .build()\n",
    "\n",
    "lr_cv = CrossValidator(estimator=lr,\n",
    "                          evaluator=f1_evaluator, \n",
    "                          estimatorParamMaps=paramGrid,\n",
    "                          numFolds=3)"
   ]
  },
  {
   "cell_type": "code",
   "execution_count": 80,
   "metadata": {},
   "outputs": [],
   "source": [
    "# Fitting the model\n",
    "lr_cv_model = lr_cv.fit(train)"
   ]
  },
  {
   "cell_type": "code",
   "execution_count": 81,
   "metadata": {},
   "outputs": [],
   "source": [
    "lr_results = lr_cv_model.transform(validation)"
   ]
  },
  {
   "cell_type": "code",
   "execution_count": 82,
   "metadata": {},
   "outputs": [
    {
     "name": "stdout",
     "output_type": "stream",
     "text": [
      "Logistic Regression performance:\n",
      "F-1 Score:0.8013191894464845\n"
     ]
    }
   ],
   "source": [
    "evaluator = MulticlassClassificationEvaluator(predictionCol=\"prediction\")\n",
    "print('Logistic Regression performance:')\n",
    "print('F-1 Score:{}'.format(evaluator.evaluate(lr_results, {evaluator.metricName: \"f1\"})))"
   ]
  },
  {
   "cell_type": "markdown",
   "metadata": {},
   "source": [
    "We can see that F-1 score improved from the baseline 65% to 80% using Logistic Regression which is acceptable. "
   ]
  },
  {
   "cell_type": "markdown",
   "metadata": {},
   "source": [
    "#### 5.2 Decision Tree Classifier"
   ]
  },
  {
   "cell_type": "code",
   "execution_count": 83,
   "metadata": {},
   "outputs": [],
   "source": [
    "# Initialising the classifier\n",
    "dts = DecisionTreeClassifier()"
   ]
  },
  {
   "cell_type": "code",
   "execution_count": 84,
   "metadata": {},
   "outputs": [],
   "source": [
    "f1_evaluator = MulticlassClassificationEvaluator(metricName='f1')"
   ]
  },
  {
   "cell_type": "code",
   "execution_count": 85,
   "metadata": {},
   "outputs": [],
   "source": [
    "# Building a paramGrid\n",
    "paramGrid = ParamGridBuilder() \\\n",
    "    .build()\n",
    "\n",
    "dts_cv = CrossValidator(estimator=dts,\n",
    "                          evaluator=f1_evaluator, \n",
    "                          estimatorParamMaps=paramGrid,\n",
    "                          numFolds=3)"
   ]
  },
  {
   "cell_type": "code",
   "execution_count": 86,
   "metadata": {},
   "outputs": [],
   "source": [
    "# Fitting the model\n",
    "dts_cv_model = dts_cv.fit(train)"
   ]
  },
  {
   "cell_type": "code",
   "execution_count": 87,
   "metadata": {},
   "outputs": [],
   "source": [
    "dts_results = dts_cv_model.transform(validation)"
   ]
  },
  {
   "cell_type": "code",
   "execution_count": 88,
   "metadata": {},
   "outputs": [
    {
     "name": "stdout",
     "output_type": "stream",
     "text": [
      "Decision Tree Classifier performance:\n",
      "F-1 Score:0.8233492822966506\n"
     ]
    }
   ],
   "source": [
    "evaluator = MulticlassClassificationEvaluator(predictionCol=\"prediction\")\n",
    "print('Decision Tree Classifier performance:')\n",
    "print('F-1 Score:{}'.format(evaluator.evaluate(dts_results, {evaluator.metricName: \"f1\"})))"
   ]
  },
  {
   "cell_type": "markdown",
   "metadata": {},
   "source": [
    "Decision Tree classifier is a more sophisticated model than logistic regression, we as expected the F-1 score is higher but not by much (approx. 2%)"
   ]
  },
  {
   "cell_type": "markdown",
   "metadata": {},
   "source": [
    "#### 5.3 Gradient Boosted Trees"
   ]
  },
  {
   "cell_type": "code",
   "execution_count": 89,
   "metadata": {},
   "outputs": [],
   "source": [
    "# Initialising the classifier\n",
    "gbt = GBTClassifier(maxIter=10,seed=27)\n",
    "# set evaluator\n",
    "f1_evaluator = MulticlassClassificationEvaluator(metricName='f1')"
   ]
  },
  {
   "cell_type": "code",
   "execution_count": 90,
   "metadata": {},
   "outputs": [],
   "source": [
    "# Building a paramGrid\n",
    "paramGrid = ParamGridBuilder() \\\n",
    "    .build()\n",
    "\n",
    "gbt_cv = CrossValidator(estimator=gbt,\n",
    "                          estimatorParamMaps=paramGrid,\n",
    "                          evaluator=f1_evaluator,\n",
    "                          numFolds=3)"
   ]
  },
  {
   "cell_type": "code",
   "execution_count": 91,
   "metadata": {},
   "outputs": [],
   "source": [
    "# Fitting the model\n",
    "gbt_cv_model = gbt_cv.fit(train)"
   ]
  },
  {
   "cell_type": "code",
   "execution_count": 92,
   "metadata": {},
   "outputs": [],
   "source": [
    "gbt_results = gbt_cv_model.transform(validation)"
   ]
  },
  {
   "cell_type": "code",
   "execution_count": 93,
   "metadata": {},
   "outputs": [
    {
     "name": "stdout",
     "output_type": "stream",
     "text": [
      "Gradient Boosted Trees performance:\n",
      "F-1 Score:0.8662211083263716\n"
     ]
    }
   ],
   "source": [
    "evaluator = MulticlassClassificationEvaluator(predictionCol=\"prediction\")\n",
    "print('Gradient Boosted Trees performance:')\n",
    "print('F-1 Score:{}'.format(evaluator.evaluate(gbt_results, {evaluator.metricName: \"f1\"})))"
   ]
  },
  {
   "cell_type": "code",
   "execution_count": 106,
   "metadata": {},
   "outputs": [],
   "source": [
    "gbt_cv_model.save('gbt_cv_model.model')"
   ]
  },
  {
   "cell_type": "markdown",
   "metadata": {},
   "source": [
    "We can see that Gradient Boosted Tree (which builds on weak learners) develops decision tree model further, so as expected it has performed better than all the previousl models."
   ]
  },
  {
   "cell_type": "markdown",
   "metadata": {},
   "source": [
    "As can be seen from above, the Gradient Boosted Tree model has outperformed the other models when looking at the F-1 score. It can done 22% better than the baseline model of predicting a 0 churn lable for everyone."
   ]
  },
  {
   "cell_type": "markdown",
   "metadata": {},
   "source": [
    "When choosing the best model we could also have looked at the run time. Considering that the full dataset is substantial (12GB) the resources required to fit the model would most probably be an important aspect to the model use. However, in our case using the medium sized dataset (242 MB), run-time was not a big concern so the best model is chosen primarily on the F-1 score. Hence, we recommend using Gradient Boosted Tree model for this problem."
   ]
  },
  {
   "cell_type": "markdown",
   "metadata": {},
   "source": [
    "### 6. Hyperparameter tuning"
   ]
  },
  {
   "cell_type": "markdown",
   "metadata": {},
   "source": [
    "Now that we have one model that we consider the most appropriate in this circumstance, we will be fine tuning its parameters."
   ]
  },
  {
   "cell_type": "code",
   "execution_count": 94,
   "metadata": {},
   "outputs": [],
   "source": [
    "GBTClassifier(maxIter=10,seed=27)\n",
    "\n",
    "# Building a paramGrid\n",
    "paramGrid_gbt = ParamGridBuilder() \\\n",
    "    .addGrid(gbt.maxDepth,[3, 5, 10]) \\\n",
    "    .addGrid(gbt.maxIter, [10,15]) \\\n",
    "    .addGrid(gbt.maxBins ,[10, 5]) \\\n",
    "    .build()\n",
    "\n",
    "# Set an evaluator\n",
    "f1_evaluator = MulticlassClassificationEvaluator(metricName='f1')\n",
    "\n",
    "gbt_cv2 = CrossValidator(estimator=gbt,\n",
    "                          estimatorParamMaps=paramGrid_gbt,\n",
    "                          evaluator=f1_evaluator,\n",
    "                          numFolds=3)"
   ]
  },
  {
   "cell_type": "code",
   "execution_count": null,
   "metadata": {},
   "outputs": [],
   "source": [
    "gbt_cv_model2 = gbt_cv2.fit(train)"
   ]
  },
  {
   "cell_type": "code",
   "execution_count": 96,
   "metadata": {},
   "outputs": [
    {
     "data": {
      "text/plain": [
       "[0.6877914441367314,\n",
       " 0.708401070998344,\n",
       " 0.6831252543339409,\n",
       " 0.7110629174626609,\n",
       " 0.7090755824307415,\n",
       " 0.7108033853938818,\n",
       " 0.7144877487297507,\n",
       " 0.7073383869712211,\n",
       " 0.7224098569750189,\n",
       " 0.6978468820060982,\n",
       " 0.7258516603342268,\n",
       " 0.6995891059195012]"
      ]
     },
     "execution_count": 96,
     "metadata": {},
     "output_type": "execute_result"
    }
   ],
   "source": [
    "gbt_cv_model2.avgMetrics"
   ]
  },
  {
   "cell_type": "code",
   "execution_count": 103,
   "metadata": {},
   "outputs": [],
   "source": [
    "gbt_cv_model2.save('gbt_cv_model2.model')"
   ]
  },
  {
   "cell_type": "markdown",
   "metadata": {},
   "source": [
    "#### 6.1 Optimal Model"
   ]
  },
  {
   "cell_type": "code",
   "execution_count": 112,
   "metadata": {},
   "outputs": [],
   "source": [
    "final_model = gbt_cv_model2.bestModel"
   ]
  },
  {
   "cell_type": "markdown",
   "metadata": {},
   "source": [
    "#### 6.2 Feature Importance"
   ]
  },
  {
   "cell_type": "markdown",
   "metadata": {},
   "source": [
    "Let's plot the values of the feature coefficients"
   ]
  },
  {
   "cell_type": "code",
   "execution_count": 114,
   "metadata": {},
   "outputs": [],
   "source": [
    "var_imp = final_model.featureImportances.values"
   ]
  },
  {
   "cell_type": "code",
   "execution_count": 116,
   "metadata": {},
   "outputs": [],
   "source": [
    "col = ['gender',\\\n",
    "        'level',\\\n",
    "        'total_sessions',\\\n",
    "        'num_thumb_up',\\\n",
    "        'num_thumb_down',\\\n",
    "        'add_friend',\\\n",
    "        'avg_songs_played',\\\n",
    "        'add_to_playlist',\\\n",
    "        'artist_count']\n",
    "y_pos = np.arange(len(col))"
   ]
  },
  {
   "cell_type": "code",
   "execution_count": 117,
   "metadata": {},
   "outputs": [
    {
     "data": {
      "image/png": "[encoded data removed]",
      "text/plain": [
       "<Figure size 432x288 with 1 Axes>"
      ]
     },
     "metadata": {
      "needs_background": "light"
     },
     "output_type": "display_data"
    }
   ],
   "source": [
    "plt.barh(y_pos, var_imp, align='center')\n",
    "plt.yticks(y_pos, col)\n",
    "plt.xlabel('Feature Importance Score')\n",
    "plt.title('GBT Feature Importances');"
   ]
  },
  {
   "cell_type": "markdown",
   "metadata": {},
   "source": [
    "The three most important features identified were\n",
    "- Average songs played\n",
    "- Number of thumbs down given\n",
    "- Total sessions\n",
    "\n",
    "which were expected because they highlight users' enagagement with the service. \n",
    "\n",
    "The three least important features were:\n",
    "- Number of artists listened to\n",
    "- Free vs Paid level of membership\n",
    "- Number of songs added to playlists\n",
    "\n",
    "I was slighty surprised by these as I thought these features will also correlate with engagement."
   ]
  },
  {
   "cell_type": "markdown",
   "metadata": {},
   "source": [
    "## Conclusion"
   ]
  },
  {
   "cell_type": "markdown",
   "metadata": {},
   "source": [
    "To summarise the steps taken in this project:\n",
    "1. Medium dataset (242 MB) was imported using Spark\n",
    "2. The data was cleaned, rows with an empty UserID (approx. 16000) were removed seeing as userID was afterwards treated as a unique identifier\n",
    "3. Churn label was defined\n",
    "4. Dataset was explored in a visual way to understand which features looked promising in churn prediction\n",
    "5. The most promising features were defined and joined together into a clean dataset\n",
    "6. Before building teh models, the features were vectorised and normalised\n",
    "7. Data was split into train, test and validation subsets\n",
    "8. Baseline F-1 score was computed\n",
    "9. Logistic Regression, Decisions Trees and Gradient Boosted Trees models were trained and their F-1 score performance compared\n",
    "10. GBT was chosen as the best model to use in this scenario\n",
    "11. GBT model's hyperparameters were fine tuned to give us the final model \n",
    "12. Feature importance was investigated"
   ]
  },
  {
   "cell_type": "markdown",
   "metadata": {},
   "source": [
    "### Potential Imporovements"
   ]
  },
  {
   "cell_type": "markdown",
   "metadata": {},
   "source": [
    "- Due to the resource restrictions, I have used the meduim subset of the original dataset. The models would have 50 times more data to learn on if the full dataset was used, which usually results in better predictive models.\n",
    "- It would probably be useful to look at other features to include in the model such as time since registration,time spent interacting wiht the service, location etc\n",
    "- It could be useful to compare performance of other models such as Random Forest and SVM"
   ]
  },
  {
   "cell_type": "markdown",
   "metadata": {},
   "source": [
    "### Reflection"
   ]
  },
  {
   "cell_type": "markdown",
   "metadata": {},
   "source": [
    "This has been a expansive project that allowed me to use the skills I have learned over the course of the nanodegree. The original dataset comprises of millions of rows detailing users' interactions with a music playing service. The columns included things like somgs' names and artists listnened, thumbs up or down given, friends added all timestamped. Data's size gave me an opportunity to learn about managing 'big data' by using Spark in this case. \n",
    "\n",
    "I had a really hard time reading the data into the IBM Watson Studio Notebook, even though I have followed Udacity's guidelines, I ended up with a wrongly configured notebook which prevented me from using Spark. The errors I was seeing in the notebook were not descriptive enough for me or Udacity's mentors to understand what was wrong. It tooks me over a week to carry out something that should have taken under a minute. As frustrating as that was, I learned a great deal about spark configuration and json file formats because of the amount of research I had to do. \n",
    "\n",
    "As mentioned previously, I used IBM Watson Studio notebook for this project, because it allowed me to get an understanding of the workings of Spark wihtout having to pay for a cloud service within AWS. I am happy I have decided to do this project and the learning associated with it because it taugh me some 'fundamentals' about computers that people from non- computer science background often do not naturally learn. This included CPU, memory storage, network connections etc. \n",
    "\n",
    "Furthermore, an educational experience in this project was learning how to interact with the Spark dataframe. Initially, being used to pandas dataframes I found the notation slightly confusing but by the end of it I feel comfortable carrying out basic tasks and looking up and implementing more complex solutions."
   ]
  }
 ],
 "metadata": {
  "kernelspec": {
   "display_name": "Python 3.6 with Spark",
   "language": "python3",
   "name": "python36"
  },
  "language_info": {
   "codemirror_mode": {
    "name": "ipython",
    "version": 3
   },
   "file_extension": ".py",
   "mimetype": "text/x-python",
   "name": "python",
   "nbconvert_exporter": "python",
   "pygments_lexer": "ipython3",
   "version": "3.6.8"
  }
 },
 "nbformat": 4,
 "nbformat_minor": 1
}
